{
  "nbformat": 4,
  "nbformat_minor": 0,
  "metadata": {
    "colab": {
      "name": "Reliance_Stock_Price_Prediction.ipynb",
      "provenance": [],
      "collapsed_sections": [],
      "authorship_tag": "ABX9TyPogXFvQAoAaFQCQuvdjFTZ",
      "include_colab_link": true
    },
    "kernelspec": {
      "name": "python3",
      "display_name": "Python 3"
    },
    "language_info": {
      "name": "python"
    },
    "accelerator": "GPU",
    "gpuClass": "standard"
  },
  "cells": [
    {
      "cell_type": "markdown",
      "metadata": {
        "id": "view-in-github",
        "colab_type": "text"
      },
      "source": [
        "<a href=\"https://colab.research.google.com/github/Divya1123/Reliance_Stock_Price_Forecast_ML/blob/main/Reliance_Stock_Price_Prediction.ipynb\" target=\"_parent\"><img src=\"https://colab.research.google.com/assets/colab-badge.svg\" alt=\"Open In Colab\"/></a>"
      ]
    },
    {
      "cell_type": "markdown",
      "source": [
        "**Importing** **Packages**"
      ],
      "metadata": {
        "id": "K9QxHU5vubCZ"
      }
    },
    {
      "cell_type": "code",
      "source": [
        "import numpy as np\n",
        "import pandas as pd\n",
        "import matplotlib.pyplot as plt\n",
        "import seaborn as sns"
      ],
      "metadata": {
        "id": "yF8LpoOIuo39"
      },
      "execution_count": null,
      "outputs": []
    },
    {
      "cell_type": "markdown",
      "source": [
        "**Reading the Dataset**"
      ],
      "metadata": {
        "id": "egKB9qeZw8mm"
      }
    },
    {
      "cell_type": "code",
      "source": [
        "df = pd.read_csv('Reliance_stock_price.csv', parse_dates= True, index_col = 'Date ')"
      ],
      "metadata": {
        "id": "qRa-3R4swr_d"
      },
      "execution_count": null,
      "outputs": []
    },
    {
      "cell_type": "code",
      "source": [
        "df.head()"
      ],
      "metadata": {
        "colab": {
          "base_uri": "https://localhost:8080/",
          "height": 406
        },
        "id": "jJSJcAEdxM-s",
        "outputId": "983be935-115c-49c5-a094-11ebba50bed2"
      },
      "execution_count": null,
      "outputs": [
        {
          "output_type": "execute_result",
          "data": {
            "text/plain": [
              "           series      OPEN      HIGH       LOW  PREV. CLOSE       ltp   \\\n",
              "Date                                                                      \n",
              "2022-08-18      EQ  2,660.00  2,669.00  2,640.20     2,665.15  2,662.00   \n",
              "2022-08-17      EQ  2,665.00  2,676.90  2,655.55     2,651.30  2,661.70   \n",
              "2022-08-16      EQ  2,646.20  2,657.30  2,627.30     2,633.00  2,656.00   \n",
              "2022-08-12      EQ  2,590.30  2,641.35  2,582.20     2,591.10  2,632.00   \n",
              "2022-08-11      EQ  2,603.10  2,609.90  2,580.20     2,582.50  2,586.70   \n",
              "\n",
              "              close      vwap     52W H     52W L   VOLUME   \\\n",
              "Date                                                          \n",
              "2022-08-18  2,661.30  2,654.44  2,856.15  2,128.15  3419730   \n",
              "2022-08-17  2,665.15  2,666.17  2,856.15  2,128.15  3044037   \n",
              "2022-08-16  2,651.30  2,643.49  2,856.15  2,128.15  3049304   \n",
              "2022-08-12  2,633.00  2,626.23  2,856.15  2,066.50  5838244   \n",
              "2022-08-11  2,591.10  2,593.04  2,856.15  2,066.50  3783480   \n",
              "\n",
              "                       VALUE   No of trades   \n",
              "Date                                          \n",
              "2022-08-18   9,077,457,998.05         131393  \n",
              "2022-08-17   8,115,922,559.35         121433  \n",
              "2022-08-16   8,060,790,553.15         140058  \n",
              "2022-08-12  15,332,563,329.35         256139  \n",
              "2022-08-11   9,810,722,225.40         171131  "
            ],
            "text/html": [
              "\n",
              "  <div id=\"df-34bf620b-d960-4b6c-89d6-f113c2073b89\">\n",
              "    <div class=\"colab-df-container\">\n",
              "      <div>\n",
              "<style scoped>\n",
              "    .dataframe tbody tr th:only-of-type {\n",
              "        vertical-align: middle;\n",
              "    }\n",
              "\n",
              "    .dataframe tbody tr th {\n",
              "        vertical-align: top;\n",
              "    }\n",
              "\n",
              "    .dataframe thead th {\n",
              "        text-align: right;\n",
              "    }\n",
              "</style>\n",
              "<table border=\"1\" class=\"dataframe\">\n",
              "  <thead>\n",
              "    <tr style=\"text-align: right;\">\n",
              "      <th></th>\n",
              "      <th>series</th>\n",
              "      <th>OPEN</th>\n",
              "      <th>HIGH</th>\n",
              "      <th>LOW</th>\n",
              "      <th>PREV. CLOSE</th>\n",
              "      <th>ltp</th>\n",
              "      <th>close</th>\n",
              "      <th>vwap</th>\n",
              "      <th>52W H</th>\n",
              "      <th>52W L</th>\n",
              "      <th>VOLUME</th>\n",
              "      <th>VALUE</th>\n",
              "      <th>No of trades</th>\n",
              "    </tr>\n",
              "    <tr>\n",
              "      <th>Date</th>\n",
              "      <th></th>\n",
              "      <th></th>\n",
              "      <th></th>\n",
              "      <th></th>\n",
              "      <th></th>\n",
              "      <th></th>\n",
              "      <th></th>\n",
              "      <th></th>\n",
              "      <th></th>\n",
              "      <th></th>\n",
              "      <th></th>\n",
              "      <th></th>\n",
              "      <th></th>\n",
              "    </tr>\n",
              "  </thead>\n",
              "  <tbody>\n",
              "    <tr>\n",
              "      <th>2022-08-18</th>\n",
              "      <td>EQ</td>\n",
              "      <td>2,660.00</td>\n",
              "      <td>2,669.00</td>\n",
              "      <td>2,640.20</td>\n",
              "      <td>2,665.15</td>\n",
              "      <td>2,662.00</td>\n",
              "      <td>2,661.30</td>\n",
              "      <td>2,654.44</td>\n",
              "      <td>2,856.15</td>\n",
              "      <td>2,128.15</td>\n",
              "      <td>3419730</td>\n",
              "      <td>9,077,457,998.05</td>\n",
              "      <td>131393</td>\n",
              "    </tr>\n",
              "    <tr>\n",
              "      <th>2022-08-17</th>\n",
              "      <td>EQ</td>\n",
              "      <td>2,665.00</td>\n",
              "      <td>2,676.90</td>\n",
              "      <td>2,655.55</td>\n",
              "      <td>2,651.30</td>\n",
              "      <td>2,661.70</td>\n",
              "      <td>2,665.15</td>\n",
              "      <td>2,666.17</td>\n",
              "      <td>2,856.15</td>\n",
              "      <td>2,128.15</td>\n",
              "      <td>3044037</td>\n",
              "      <td>8,115,922,559.35</td>\n",
              "      <td>121433</td>\n",
              "    </tr>\n",
              "    <tr>\n",
              "      <th>2022-08-16</th>\n",
              "      <td>EQ</td>\n",
              "      <td>2,646.20</td>\n",
              "      <td>2,657.30</td>\n",
              "      <td>2,627.30</td>\n",
              "      <td>2,633.00</td>\n",
              "      <td>2,656.00</td>\n",
              "      <td>2,651.30</td>\n",
              "      <td>2,643.49</td>\n",
              "      <td>2,856.15</td>\n",
              "      <td>2,128.15</td>\n",
              "      <td>3049304</td>\n",
              "      <td>8,060,790,553.15</td>\n",
              "      <td>140058</td>\n",
              "    </tr>\n",
              "    <tr>\n",
              "      <th>2022-08-12</th>\n",
              "      <td>EQ</td>\n",
              "      <td>2,590.30</td>\n",
              "      <td>2,641.35</td>\n",
              "      <td>2,582.20</td>\n",
              "      <td>2,591.10</td>\n",
              "      <td>2,632.00</td>\n",
              "      <td>2,633.00</td>\n",
              "      <td>2,626.23</td>\n",
              "      <td>2,856.15</td>\n",
              "      <td>2,066.50</td>\n",
              "      <td>5838244</td>\n",
              "      <td>15,332,563,329.35</td>\n",
              "      <td>256139</td>\n",
              "    </tr>\n",
              "    <tr>\n",
              "      <th>2022-08-11</th>\n",
              "      <td>EQ</td>\n",
              "      <td>2,603.10</td>\n",
              "      <td>2,609.90</td>\n",
              "      <td>2,580.20</td>\n",
              "      <td>2,582.50</td>\n",
              "      <td>2,586.70</td>\n",
              "      <td>2,591.10</td>\n",
              "      <td>2,593.04</td>\n",
              "      <td>2,856.15</td>\n",
              "      <td>2,066.50</td>\n",
              "      <td>3783480</td>\n",
              "      <td>9,810,722,225.40</td>\n",
              "      <td>171131</td>\n",
              "    </tr>\n",
              "  </tbody>\n",
              "</table>\n",
              "</div>\n",
              "      <button class=\"colab-df-convert\" onclick=\"convertToInteractive('df-34bf620b-d960-4b6c-89d6-f113c2073b89')\"\n",
              "              title=\"Convert this dataframe to an interactive table.\"\n",
              "              style=\"display:none;\">\n",
              "        \n",
              "  <svg xmlns=\"http://www.w3.org/2000/svg\" height=\"24px\"viewBox=\"0 0 24 24\"\n",
              "       width=\"24px\">\n",
              "    <path d=\"M0 0h24v24H0V0z\" fill=\"none\"/>\n",
              "    <path d=\"M18.56 5.44l.94 2.06.94-2.06 2.06-.94-2.06-.94-.94-2.06-.94 2.06-2.06.94zm-11 1L8.5 8.5l.94-2.06 2.06-.94-2.06-.94L8.5 2.5l-.94 2.06-2.06.94zm10 10l.94 2.06.94-2.06 2.06-.94-2.06-.94-.94-2.06-.94 2.06-2.06.94z\"/><path d=\"M17.41 7.96l-1.37-1.37c-.4-.4-.92-.59-1.43-.59-.52 0-1.04.2-1.43.59L10.3 9.45l-7.72 7.72c-.78.78-.78 2.05 0 2.83L4 21.41c.39.39.9.59 1.41.59.51 0 1.02-.2 1.41-.59l7.78-7.78 2.81-2.81c.8-.78.8-2.07 0-2.86zM5.41 20L4 18.59l7.72-7.72 1.47 1.35L5.41 20z\"/>\n",
              "  </svg>\n",
              "      </button>\n",
              "      \n",
              "  <style>\n",
              "    .colab-df-container {\n",
              "      display:flex;\n",
              "      flex-wrap:wrap;\n",
              "      gap: 12px;\n",
              "    }\n",
              "\n",
              "    .colab-df-convert {\n",
              "      background-color: #E8F0FE;\n",
              "      border: none;\n",
              "      border-radius: 50%;\n",
              "      cursor: pointer;\n",
              "      display: none;\n",
              "      fill: #1967D2;\n",
              "      height: 32px;\n",
              "      padding: 0 0 0 0;\n",
              "      width: 32px;\n",
              "    }\n",
              "\n",
              "    .colab-df-convert:hover {\n",
              "      background-color: #E2EBFA;\n",
              "      box-shadow: 0px 1px 2px rgba(60, 64, 67, 0.3), 0px 1px 3px 1px rgba(60, 64, 67, 0.15);\n",
              "      fill: #174EA6;\n",
              "    }\n",
              "\n",
              "    [theme=dark] .colab-df-convert {\n",
              "      background-color: #3B4455;\n",
              "      fill: #D2E3FC;\n",
              "    }\n",
              "\n",
              "    [theme=dark] .colab-df-convert:hover {\n",
              "      background-color: #434B5C;\n",
              "      box-shadow: 0px 1px 3px 1px rgba(0, 0, 0, 0.15);\n",
              "      filter: drop-shadow(0px 1px 2px rgba(0, 0, 0, 0.3));\n",
              "      fill: #FFFFFF;\n",
              "    }\n",
              "  </style>\n",
              "\n",
              "      <script>\n",
              "        const buttonEl =\n",
              "          document.querySelector('#df-34bf620b-d960-4b6c-89d6-f113c2073b89 button.colab-df-convert');\n",
              "        buttonEl.style.display =\n",
              "          google.colab.kernel.accessAllowed ? 'block' : 'none';\n",
              "\n",
              "        async function convertToInteractive(key) {\n",
              "          const element = document.querySelector('#df-34bf620b-d960-4b6c-89d6-f113c2073b89');\n",
              "          const dataTable =\n",
              "            await google.colab.kernel.invokeFunction('convertToInteractive',\n",
              "                                                     [key], {});\n",
              "          if (!dataTable) return;\n",
              "\n",
              "          const docLinkHtml = 'Like what you see? Visit the ' +\n",
              "            '<a target=\"_blank\" href=https://colab.research.google.com/notebooks/data_table.ipynb>data table notebook</a>'\n",
              "            + ' to learn more about interactive tables.';\n",
              "          element.innerHTML = '';\n",
              "          dataTable['output_type'] = 'display_data';\n",
              "          await google.colab.output.renderOutput(dataTable, element);\n",
              "          const docLink = document.createElement('div');\n",
              "          docLink.innerHTML = docLinkHtml;\n",
              "          element.appendChild(docLink);\n",
              "        }\n",
              "      </script>\n",
              "    </div>\n",
              "  </div>\n",
              "  "
            ]
          },
          "metadata": {},
          "execution_count": 961
        }
      ]
    },
    {
      "cell_type": "code",
      "source": [
        "df.info()"
      ],
      "metadata": {
        "colab": {
          "base_uri": "https://localhost:8080/"
        },
        "id": "-05yUfdb00pc",
        "outputId": "27d6516f-e52e-4001-9f8d-1b44e408fcb7"
      },
      "execution_count": null,
      "outputs": [
        {
          "output_type": "stream",
          "name": "stdout",
          "text": [
            "<class 'pandas.core.frame.DataFrame'>\n",
            "DatetimeIndex: 248 entries, 2022-08-18 to 2021-08-20\n",
            "Data columns (total 13 columns):\n",
            " #   Column         Non-Null Count  Dtype \n",
            "---  ------         --------------  ----- \n",
            " 0   series         248 non-null    object\n",
            " 1   OPEN           248 non-null    object\n",
            " 2   HIGH           248 non-null    object\n",
            " 3   LOW            248 non-null    object\n",
            " 4   PREV. CLOSE    248 non-null    object\n",
            " 5   ltp            248 non-null    object\n",
            " 6   close          248 non-null    object\n",
            " 7   vwap           248 non-null    object\n",
            " 8   52W H          248 non-null    object\n",
            " 9   52W L          248 non-null    object\n",
            " 10  VOLUME         248 non-null    int64 \n",
            " 11  VALUE          248 non-null    object\n",
            " 12  No of trades   248 non-null    int64 \n",
            "dtypes: int64(2), object(11)\n",
            "memory usage: 27.1+ KB\n"
          ]
        }
      ]
    },
    {
      "cell_type": "markdown",
      "source": [
        "**Sort dataset acc to Date in descending**"
      ],
      "metadata": {
        "id": "D6rwGM4eNfHe"
      }
    },
    {
      "cell_type": "code",
      "source": [
        "df.sort_values('Date ', inplace= True)"
      ],
      "metadata": {
        "id": "ZfJPkKt2NmyT"
      },
      "execution_count": null,
      "outputs": []
    },
    {
      "cell_type": "code",
      "source": [
        "df.head()"
      ],
      "metadata": {
        "colab": {
          "base_uri": "https://localhost:8080/",
          "height": 406
        },
        "id": "rBqCIfXZOz_R",
        "outputId": "93b452e6-79b3-4fed-e4b5-4abcde9c6f0a"
      },
      "execution_count": null,
      "outputs": [
        {
          "output_type": "execute_result",
          "data": {
            "text/plain": [
              "           series      OPEN      HIGH       LOW  PREV. CLOSE       ltp   \\\n",
              "Date                                                                      \n",
              "2021-08-20      EQ  2,143.00  2,172.00  2,137.00     2,172.65  2,140.10   \n",
              "2021-08-23      EQ  2,174.00  2,174.00  2,132.30     2,148.25  2,161.15   \n",
              "2021-08-24      EQ  2,165.05  2,192.00  2,155.60     2,162.35  2,178.00   \n",
              "2021-08-25      EQ  2,185.40  2,220.00  2,180.10     2,183.70  2,201.00   \n",
              "2021-08-26      EQ  2,208.00  2,244.90  2,205.00     2,202.60  2,232.00   \n",
              "\n",
              "              close      vwap     52W H     52W L   VOLUME   \\\n",
              "Date                                                          \n",
              "2021-08-20  2,148.25  2,155.63  2,369.35  1,830.00  4350228   \n",
              "2021-08-23  2,162.35  2,156.97  2,369.35  1,830.00  4547802   \n",
              "2021-08-24  2,183.70  2,174.28  2,369.35  1,830.00  5475452   \n",
              "2021-08-25  2,202.60  2,204.22  2,369.35  1,830.00  6175126   \n",
              "2021-08-26  2,230.45  2,230.28  2,369.35  1,830.00  8579105   \n",
              "\n",
              "                       VALUE   No of trades   \n",
              "Date                                          \n",
              "2021-08-20   9,377,502,601.90         147112  \n",
              "2021-08-23   9,809,454,490.65         143268  \n",
              "2021-08-24  11,905,165,196.90         173479  \n",
              "2021-08-25  13,611,364,533.60         198304  \n",
              "2021-08-26  19,133,818,233.65         248660  "
            ],
            "text/html": [
              "\n",
              "  <div id=\"df-48c4cab1-32c3-4d9d-9ed4-3b55c18d5783\">\n",
              "    <div class=\"colab-df-container\">\n",
              "      <div>\n",
              "<style scoped>\n",
              "    .dataframe tbody tr th:only-of-type {\n",
              "        vertical-align: middle;\n",
              "    }\n",
              "\n",
              "    .dataframe tbody tr th {\n",
              "        vertical-align: top;\n",
              "    }\n",
              "\n",
              "    .dataframe thead th {\n",
              "        text-align: right;\n",
              "    }\n",
              "</style>\n",
              "<table border=\"1\" class=\"dataframe\">\n",
              "  <thead>\n",
              "    <tr style=\"text-align: right;\">\n",
              "      <th></th>\n",
              "      <th>series</th>\n",
              "      <th>OPEN</th>\n",
              "      <th>HIGH</th>\n",
              "      <th>LOW</th>\n",
              "      <th>PREV. CLOSE</th>\n",
              "      <th>ltp</th>\n",
              "      <th>close</th>\n",
              "      <th>vwap</th>\n",
              "      <th>52W H</th>\n",
              "      <th>52W L</th>\n",
              "      <th>VOLUME</th>\n",
              "      <th>VALUE</th>\n",
              "      <th>No of trades</th>\n",
              "    </tr>\n",
              "    <tr>\n",
              "      <th>Date</th>\n",
              "      <th></th>\n",
              "      <th></th>\n",
              "      <th></th>\n",
              "      <th></th>\n",
              "      <th></th>\n",
              "      <th></th>\n",
              "      <th></th>\n",
              "      <th></th>\n",
              "      <th></th>\n",
              "      <th></th>\n",
              "      <th></th>\n",
              "      <th></th>\n",
              "      <th></th>\n",
              "    </tr>\n",
              "  </thead>\n",
              "  <tbody>\n",
              "    <tr>\n",
              "      <th>2021-08-20</th>\n",
              "      <td>EQ</td>\n",
              "      <td>2,143.00</td>\n",
              "      <td>2,172.00</td>\n",
              "      <td>2,137.00</td>\n",
              "      <td>2,172.65</td>\n",
              "      <td>2,140.10</td>\n",
              "      <td>2,148.25</td>\n",
              "      <td>2,155.63</td>\n",
              "      <td>2,369.35</td>\n",
              "      <td>1,830.00</td>\n",
              "      <td>4350228</td>\n",
              "      <td>9,377,502,601.90</td>\n",
              "      <td>147112</td>\n",
              "    </tr>\n",
              "    <tr>\n",
              "      <th>2021-08-23</th>\n",
              "      <td>EQ</td>\n",
              "      <td>2,174.00</td>\n",
              "      <td>2,174.00</td>\n",
              "      <td>2,132.30</td>\n",
              "      <td>2,148.25</td>\n",
              "      <td>2,161.15</td>\n",
              "      <td>2,162.35</td>\n",
              "      <td>2,156.97</td>\n",
              "      <td>2,369.35</td>\n",
              "      <td>1,830.00</td>\n",
              "      <td>4547802</td>\n",
              "      <td>9,809,454,490.65</td>\n",
              "      <td>143268</td>\n",
              "    </tr>\n",
              "    <tr>\n",
              "      <th>2021-08-24</th>\n",
              "      <td>EQ</td>\n",
              "      <td>2,165.05</td>\n",
              "      <td>2,192.00</td>\n",
              "      <td>2,155.60</td>\n",
              "      <td>2,162.35</td>\n",
              "      <td>2,178.00</td>\n",
              "      <td>2,183.70</td>\n",
              "      <td>2,174.28</td>\n",
              "      <td>2,369.35</td>\n",
              "      <td>1,830.00</td>\n",
              "      <td>5475452</td>\n",
              "      <td>11,905,165,196.90</td>\n",
              "      <td>173479</td>\n",
              "    </tr>\n",
              "    <tr>\n",
              "      <th>2021-08-25</th>\n",
              "      <td>EQ</td>\n",
              "      <td>2,185.40</td>\n",
              "      <td>2,220.00</td>\n",
              "      <td>2,180.10</td>\n",
              "      <td>2,183.70</td>\n",
              "      <td>2,201.00</td>\n",
              "      <td>2,202.60</td>\n",
              "      <td>2,204.22</td>\n",
              "      <td>2,369.35</td>\n",
              "      <td>1,830.00</td>\n",
              "      <td>6175126</td>\n",
              "      <td>13,611,364,533.60</td>\n",
              "      <td>198304</td>\n",
              "    </tr>\n",
              "    <tr>\n",
              "      <th>2021-08-26</th>\n",
              "      <td>EQ</td>\n",
              "      <td>2,208.00</td>\n",
              "      <td>2,244.90</td>\n",
              "      <td>2,205.00</td>\n",
              "      <td>2,202.60</td>\n",
              "      <td>2,232.00</td>\n",
              "      <td>2,230.45</td>\n",
              "      <td>2,230.28</td>\n",
              "      <td>2,369.35</td>\n",
              "      <td>1,830.00</td>\n",
              "      <td>8579105</td>\n",
              "      <td>19,133,818,233.65</td>\n",
              "      <td>248660</td>\n",
              "    </tr>\n",
              "  </tbody>\n",
              "</table>\n",
              "</div>\n",
              "      <button class=\"colab-df-convert\" onclick=\"convertToInteractive('df-48c4cab1-32c3-4d9d-9ed4-3b55c18d5783')\"\n",
              "              title=\"Convert this dataframe to an interactive table.\"\n",
              "              style=\"display:none;\">\n",
              "        \n",
              "  <svg xmlns=\"http://www.w3.org/2000/svg\" height=\"24px\"viewBox=\"0 0 24 24\"\n",
              "       width=\"24px\">\n",
              "    <path d=\"M0 0h24v24H0V0z\" fill=\"none\"/>\n",
              "    <path d=\"M18.56 5.44l.94 2.06.94-2.06 2.06-.94-2.06-.94-.94-2.06-.94 2.06-2.06.94zm-11 1L8.5 8.5l.94-2.06 2.06-.94-2.06-.94L8.5 2.5l-.94 2.06-2.06.94zm10 10l.94 2.06.94-2.06 2.06-.94-2.06-.94-.94-2.06-.94 2.06-2.06.94z\"/><path d=\"M17.41 7.96l-1.37-1.37c-.4-.4-.92-.59-1.43-.59-.52 0-1.04.2-1.43.59L10.3 9.45l-7.72 7.72c-.78.78-.78 2.05 0 2.83L4 21.41c.39.39.9.59 1.41.59.51 0 1.02-.2 1.41-.59l7.78-7.78 2.81-2.81c.8-.78.8-2.07 0-2.86zM5.41 20L4 18.59l7.72-7.72 1.47 1.35L5.41 20z\"/>\n",
              "  </svg>\n",
              "      </button>\n",
              "      \n",
              "  <style>\n",
              "    .colab-df-container {\n",
              "      display:flex;\n",
              "      flex-wrap:wrap;\n",
              "      gap: 12px;\n",
              "    }\n",
              "\n",
              "    .colab-df-convert {\n",
              "      background-color: #E8F0FE;\n",
              "      border: none;\n",
              "      border-radius: 50%;\n",
              "      cursor: pointer;\n",
              "      display: none;\n",
              "      fill: #1967D2;\n",
              "      height: 32px;\n",
              "      padding: 0 0 0 0;\n",
              "      width: 32px;\n",
              "    }\n",
              "\n",
              "    .colab-df-convert:hover {\n",
              "      background-color: #E2EBFA;\n",
              "      box-shadow: 0px 1px 2px rgba(60, 64, 67, 0.3), 0px 1px 3px 1px rgba(60, 64, 67, 0.15);\n",
              "      fill: #174EA6;\n",
              "    }\n",
              "\n",
              "    [theme=dark] .colab-df-convert {\n",
              "      background-color: #3B4455;\n",
              "      fill: #D2E3FC;\n",
              "    }\n",
              "\n",
              "    [theme=dark] .colab-df-convert:hover {\n",
              "      background-color: #434B5C;\n",
              "      box-shadow: 0px 1px 3px 1px rgba(0, 0, 0, 0.15);\n",
              "      filter: drop-shadow(0px 1px 2px rgba(0, 0, 0, 0.3));\n",
              "      fill: #FFFFFF;\n",
              "    }\n",
              "  </style>\n",
              "\n",
              "      <script>\n",
              "        const buttonEl =\n",
              "          document.querySelector('#df-48c4cab1-32c3-4d9d-9ed4-3b55c18d5783 button.colab-df-convert');\n",
              "        buttonEl.style.display =\n",
              "          google.colab.kernel.accessAllowed ? 'block' : 'none';\n",
              "\n",
              "        async function convertToInteractive(key) {\n",
              "          const element = document.querySelector('#df-48c4cab1-32c3-4d9d-9ed4-3b55c18d5783');\n",
              "          const dataTable =\n",
              "            await google.colab.kernel.invokeFunction('convertToInteractive',\n",
              "                                                     [key], {});\n",
              "          if (!dataTable) return;\n",
              "\n",
              "          const docLinkHtml = 'Like what you see? Visit the ' +\n",
              "            '<a target=\"_blank\" href=https://colab.research.google.com/notebooks/data_table.ipynb>data table notebook</a>'\n",
              "            + ' to learn more about interactive tables.';\n",
              "          element.innerHTML = '';\n",
              "          dataTable['output_type'] = 'display_data';\n",
              "          await google.colab.output.renderOutput(dataTable, element);\n",
              "          const docLink = document.createElement('div');\n",
              "          docLink.innerHTML = docLinkHtml;\n",
              "          element.appendChild(docLink);\n",
              "        }\n",
              "      </script>\n",
              "    </div>\n",
              "  </div>\n",
              "  "
            ]
          },
          "metadata": {},
          "execution_count": 964
        }
      ]
    },
    {
      "cell_type": "markdown",
      "source": [
        "**Change Close datatype from string object to float**"
      ],
      "metadata": {
        "id": "SraI4xUo1Xv2"
      }
    },
    {
      "cell_type": "code",
      "source": [
        "df['close '] "
      ],
      "metadata": {
        "colab": {
          "base_uri": "https://localhost:8080/"
        },
        "id": "Yxsf2k4p1XHI",
        "outputId": "bb80e1a0-5457-44c0-f344-23a4bafde1a4"
      },
      "execution_count": null,
      "outputs": [
        {
          "output_type": "execute_result",
          "data": {
            "text/plain": [
              "Date \n",
              "2021-08-20    2,148.25\n",
              "2021-08-23    2,162.35\n",
              "2021-08-24    2,183.70\n",
              "2021-08-25    2,202.60\n",
              "2021-08-26    2,230.45\n",
              "                ...   \n",
              "2022-08-11    2,591.10\n",
              "2022-08-12    2,633.00\n",
              "2022-08-16    2,651.30\n",
              "2022-08-17    2,665.15\n",
              "2022-08-18    2,661.30\n",
              "Name: close , Length: 248, dtype: object"
            ]
          },
          "metadata": {},
          "execution_count": 965
        }
      ]
    },
    {
      "cell_type": "code",
      "source": [
        "df['close '] = df['close '].str.replace(',', '').astype(float)"
      ],
      "metadata": {
        "id": "a1Q4QrJy3cD9"
      },
      "execution_count": null,
      "outputs": []
    },
    {
      "cell_type": "code",
      "source": [
        "df['close '].dtype"
      ],
      "metadata": {
        "colab": {
          "base_uri": "https://localhost:8080/"
        },
        "id": "UAUydEFk5esg",
        "outputId": "cdfa5022-3c19-4c26-efae-36bdf87f97e9"
      },
      "execution_count": null,
      "outputs": [
        {
          "output_type": "execute_result",
          "data": {
            "text/plain": [
              "dtype('float64')"
            ]
          },
          "metadata": {},
          "execution_count": 967
        }
      ]
    },
    {
      "cell_type": "markdown",
      "source": [
        "**Visualize Price of stock over a year**"
      ],
      "metadata": {
        "id": "h-eV2Eps0UV_"
      }
    },
    {
      "cell_type": "markdown",
      "source": [
        "**Creating new Dataset of series type of price/close with Date as index**"
      ],
      "metadata": {
        "id": "IfzZV5niyviH"
      }
    },
    {
      "cell_type": "code",
      "source": [
        "reliance_price = df['close ']"
      ],
      "metadata": {
        "id": "A_9MAILMzCMU"
      },
      "execution_count": null,
      "outputs": []
    },
    {
      "cell_type": "code",
      "source": [
        "plt.plot(reliance_price)"
      ],
      "metadata": {
        "colab": {
          "base_uri": "https://localhost:8080/",
          "height": 282
        },
        "id": "VtGVvmkZz0ZN",
        "outputId": "e8b1b13f-70dc-4f46-c40a-ae6598fbaab4"
      },
      "execution_count": null,
      "outputs": [
        {
          "output_type": "execute_result",
          "data": {
            "text/plain": [
              "[<matplotlib.lines.Line2D at 0x7f9429ff4f50>]"
            ]
          },
          "metadata": {},
          "execution_count": 969
        },
        {
          "output_type": "display_data",
          "data": {
            "text/plain": [
              "<Figure size 432x288 with 1 Axes>"
            ],
            "image/png": "[encoded data removed]"
          },
          "metadata": {
            "needs_background": "light"
          }
        }
      ]
    },
    {
      "cell_type": "code",
      "source": [
        "reliance_price"
      ],
      "metadata": {
        "colab": {
          "base_uri": "https://localhost:8080/"
        },
        "id": "kO2s3b7w_BtM",
        "outputId": "63159cbc-27de-43f0-c802-379a0445a8cf"
      },
      "execution_count": null,
      "outputs": [
        {
          "output_type": "execute_result",
          "data": {
            "text/plain": [
              "Date \n",
              "2021-08-20    2148.25\n",
              "2021-08-23    2162.35\n",
              "2021-08-24    2183.70\n",
              "2021-08-25    2202.60\n",
              "2021-08-26    2230.45\n",
              "               ...   \n",
              "2022-08-11    2591.10\n",
              "2022-08-12    2633.00\n",
              "2022-08-16    2651.30\n",
              "2022-08-17    2665.15\n",
              "2022-08-18    2661.30\n",
              "Name: close , Length: 248, dtype: float64"
            ]
          },
          "metadata": {},
          "execution_count": 970
        }
      ]
    },
    {
      "cell_type": "markdown",
      "source": [
        "**Remove index Date from dataset**"
      ],
      "metadata": {
        "id": "_I6sWDR5__yX"
      }
    },
    {
      "cell_type": "code",
      "source": [
        "reliance_price.reset_index(drop= True, inplace= True)\n",
        "reliance_price.shape"
      ],
      "metadata": {
        "colab": {
          "base_uri": "https://localhost:8080/"
        },
        "id": "Hr2fR-RAAFYG",
        "outputId": "815e14b5-1236-4cdd-baa8-9eacfa00a1ae"
      },
      "execution_count": null,
      "outputs": [
        {
          "output_type": "execute_result",
          "data": {
            "text/plain": [
              "(248,)"
            ]
          },
          "metadata": {},
          "execution_count": 971
        }
      ]
    },
    {
      "cell_type": "markdown",
      "source": [
        "**Convert series into DataFrame**"
      ],
      "metadata": {
        "id": "0hZ_sUsb_n7p"
      }
    },
    {
      "cell_type": "code",
      "source": [
        "reliance_price = pd.DataFrame(reliance_price)\n",
        "reliance_price"
      ],
      "metadata": {
        "colab": {
          "base_uri": "https://localhost:8080/",
          "height": 424
        },
        "id": "JZ9pIU7M_beP",
        "outputId": "8fe89fe8-49ee-4b40-d07c-b22f954b589d"
      },
      "execution_count": null,
      "outputs": [
        {
          "output_type": "execute_result",
          "data": {
            "text/plain": [
              "      close \n",
              "0    2148.25\n",
              "1    2162.35\n",
              "2    2183.70\n",
              "3    2202.60\n",
              "4    2230.45\n",
              "..       ...\n",
              "243  2591.10\n",
              "244  2633.00\n",
              "245  2651.30\n",
              "246  2665.15\n",
              "247  2661.30\n",
              "\n",
              "[248 rows x 1 columns]"
            ],
            "text/html": [
              "\n",
              "  <div id=\"df-984e0cb1-a513-468b-8312-a3fbfbba2203\">\n",
              "    <div class=\"colab-df-container\">\n",
              "      <div>\n",
              "<style scoped>\n",
              "    .dataframe tbody tr th:only-of-type {\n",
              "        vertical-align: middle;\n",
              "    }\n",
              "\n",
              "    .dataframe tbody tr th {\n",
              "        vertical-align: top;\n",
              "    }\n",
              "\n",
              "    .dataframe thead th {\n",
              "        text-align: right;\n",
              "    }\n",
              "</style>\n",
              "<table border=\"1\" class=\"dataframe\">\n",
              "  <thead>\n",
              "    <tr style=\"text-align: right;\">\n",
              "      <th></th>\n",
              "      <th>close</th>\n",
              "    </tr>\n",
              "  </thead>\n",
              "  <tbody>\n",
              "    <tr>\n",
              "      <th>0</th>\n",
              "      <td>2148.25</td>\n",
              "    </tr>\n",
              "    <tr>\n",
              "      <th>1</th>\n",
              "      <td>2162.35</td>\n",
              "    </tr>\n",
              "    <tr>\n",
              "      <th>2</th>\n",
              "      <td>2183.70</td>\n",
              "    </tr>\n",
              "    <tr>\n",
              "      <th>3</th>\n",
              "      <td>2202.60</td>\n",
              "    </tr>\n",
              "    <tr>\n",
              "      <th>4</th>\n",
              "      <td>2230.45</td>\n",
              "    </tr>\n",
              "    <tr>\n",
              "      <th>...</th>\n",
              "      <td>...</td>\n",
              "    </tr>\n",
              "    <tr>\n",
              "      <th>243</th>\n",
              "      <td>2591.10</td>\n",
              "    </tr>\n",
              "    <tr>\n",
              "      <th>244</th>\n",
              "      <td>2633.00</td>\n",
              "    </tr>\n",
              "    <tr>\n",
              "      <th>245</th>\n",
              "      <td>2651.30</td>\n",
              "    </tr>\n",
              "    <tr>\n",
              "      <th>246</th>\n",
              "      <td>2665.15</td>\n",
              "    </tr>\n",
              "    <tr>\n",
              "      <th>247</th>\n",
              "      <td>2661.30</td>\n",
              "    </tr>\n",
              "  </tbody>\n",
              "</table>\n",
              "<p>248 rows × 1 columns</p>\n",
              "</div>\n",
              "      <button class=\"colab-df-convert\" onclick=\"convertToInteractive('df-984e0cb1-a513-468b-8312-a3fbfbba2203')\"\n",
              "              title=\"Convert this dataframe to an interactive table.\"\n",
              "              style=\"display:none;\">\n",
              "        \n",
              "  <svg xmlns=\"http://www.w3.org/2000/svg\" height=\"24px\"viewBox=\"0 0 24 24\"\n",
              "       width=\"24px\">\n",
              "    <path d=\"M0 0h24v24H0V0z\" fill=\"none\"/>\n",
              "    <path d=\"M18.56 5.44l.94 2.06.94-2.06 2.06-.94-2.06-.94-.94-2.06-.94 2.06-2.06.94zm-11 1L8.5 8.5l.94-2.06 2.06-.94-2.06-.94L8.5 2.5l-.94 2.06-2.06.94zm10 10l.94 2.06.94-2.06 2.06-.94-2.06-.94-.94-2.06-.94 2.06-2.06.94z\"/><path d=\"M17.41 7.96l-1.37-1.37c-.4-.4-.92-.59-1.43-.59-.52 0-1.04.2-1.43.59L10.3 9.45l-7.72 7.72c-.78.78-.78 2.05 0 2.83L4 21.41c.39.39.9.59 1.41.59.51 0 1.02-.2 1.41-.59l7.78-7.78 2.81-2.81c.8-.78.8-2.07 0-2.86zM5.41 20L4 18.59l7.72-7.72 1.47 1.35L5.41 20z\"/>\n",
              "  </svg>\n",
              "      </button>\n",
              "      \n",
              "  <style>\n",
              "    .colab-df-container {\n",
              "      display:flex;\n",
              "      flex-wrap:wrap;\n",
              "      gap: 12px;\n",
              "    }\n",
              "\n",
              "    .colab-df-convert {\n",
              "      background-color: #E8F0FE;\n",
              "      border: none;\n",
              "      border-radius: 50%;\n",
              "      cursor: pointer;\n",
              "      display: none;\n",
              "      fill: #1967D2;\n",
              "      height: 32px;\n",
              "      padding: 0 0 0 0;\n",
              "      width: 32px;\n",
              "    }\n",
              "\n",
              "    .colab-df-convert:hover {\n",
              "      background-color: #E2EBFA;\n",
              "      box-shadow: 0px 1px 2px rgba(60, 64, 67, 0.3), 0px 1px 3px 1px rgba(60, 64, 67, 0.15);\n",
              "      fill: #174EA6;\n",
              "    }\n",
              "\n",
              "    [theme=dark] .colab-df-convert {\n",
              "      background-color: #3B4455;\n",
              "      fill: #D2E3FC;\n",
              "    }\n",
              "\n",
              "    [theme=dark] .colab-df-convert:hover {\n",
              "      background-color: #434B5C;\n",
              "      box-shadow: 0px 1px 3px 1px rgba(0, 0, 0, 0.15);\n",
              "      filter: drop-shadow(0px 1px 2px rgba(0, 0, 0, 0.3));\n",
              "      fill: #FFFFFF;\n",
              "    }\n",
              "  </style>\n",
              "\n",
              "      <script>\n",
              "        const buttonEl =\n",
              "          document.querySelector('#df-984e0cb1-a513-468b-8312-a3fbfbba2203 button.colab-df-convert');\n",
              "        buttonEl.style.display =\n",
              "          google.colab.kernel.accessAllowed ? 'block' : 'none';\n",
              "\n",
              "        async function convertToInteractive(key) {\n",
              "          const element = document.querySelector('#df-984e0cb1-a513-468b-8312-a3fbfbba2203');\n",
              "          const dataTable =\n",
              "            await google.colab.kernel.invokeFunction('convertToInteractive',\n",
              "                                                     [key], {});\n",
              "          if (!dataTable) return;\n",
              "\n",
              "          const docLinkHtml = 'Like what you see? Visit the ' +\n",
              "            '<a target=\"_blank\" href=https://colab.research.google.com/notebooks/data_table.ipynb>data table notebook</a>'\n",
              "            + ' to learn more about interactive tables.';\n",
              "          element.innerHTML = '';\n",
              "          dataTable['output_type'] = 'display_data';\n",
              "          await google.colab.output.renderOutput(dataTable, element);\n",
              "          const docLink = document.createElement('div');\n",
              "          docLink.innerHTML = docLinkHtml;\n",
              "          element.appendChild(docLink);\n",
              "        }\n",
              "      </script>\n",
              "    </div>\n",
              "  </div>\n",
              "  "
            ]
          },
          "metadata": {},
          "execution_count": 972
        }
      ]
    },
    {
      "cell_type": "markdown",
      "source": [
        "**Train Test split of dataset**"
      ],
      "metadata": {
        "id": "m7Eoy-bMBgHB"
      }
    },
    {
      "cell_type": "code",
      "source": [
        "# we are taking 240 price in train and 18 in test data\n",
        "train = reliance_price.iloc[:231]\n",
        "test = reliance_price.iloc[231:]"
      ],
      "metadata": {
        "id": "ffkAMlQEBkNe"
      },
      "execution_count": null,
      "outputs": []
    },
    {
      "cell_type": "markdown",
      "source": [
        "**Scaling of dataset for Neural Network**"
      ],
      "metadata": {
        "id": "OARBYNuXGse6"
      }
    },
    {
      "cell_type": "code",
      "source": [
        "from sklearn.preprocessing import MinMaxScaler\n",
        "scaler = MinMaxScaler()\n",
        "scaled_train = scaler.fit_transform(train)\n",
        "scaled_test = scaler.transform(test)"
      ],
      "metadata": {
        "id": "wd485gRrGzgQ"
      },
      "execution_count": null,
      "outputs": []
    },
    {
      "cell_type": "markdown",
      "source": [
        "**Create TimeSeriesGenerator for time series problem**"
      ],
      "metadata": {
        "id": "iVf446bdMnU-"
      }
    },
    {
      "cell_type": "code",
      "source": [
        "from tensorflow.keras.preprocessing.sequence import TimeseriesGenerator"
      ],
      "metadata": {
        "id": "kj7SVlfsMuf1"
      },
      "execution_count": null,
      "outputs": []
    },
    {
      "cell_type": "code",
      "source": [
        "# to see documentation use help \n",
        "# help(TimeseriesGenerator)"
      ],
      "metadata": {
        "id": "eCnvHEuRM2_V"
      },
      "execution_count": null,
      "outputs": []
    },
    {
      "cell_type": "code",
      "source": [
        "# length and batch_size are parameters of TimeSeriesGenerator where length= no of test data\n",
        "length = 18\n",
        "batch_size = 30\n",
        "\n",
        "# will crate generator on train data and will predict and validate on 18 test data\n",
        "generator = TimeseriesGenerator(scaled_train, scaled_train, length= length, batch_size= batch_size)\n",
        "\n",
        "# validation_generator = TimeseriesGenerator(scaled_test, scaled_test, length=length, batch_size = batch_size)\n"
      ],
      "metadata": {
        "id": "ImjeJy7HNFQF"
      },
      "execution_count": null,
      "outputs": []
    },
    {
      "cell_type": "markdown",
      "source": [
        "**Model Creation**"
      ],
      "metadata": {
        "id": "J9wKH66unqov"
      }
    },
    {
      "cell_type": "code",
      "source": [
        "from tensorflow.keras.models import Sequential\n",
        "from tensorflow.keras.layers import Dense, SimpleRNN, LSTM, Dropout"
      ],
      "metadata": {
        "id": "zr1gpmZ6RJud"
      },
      "execution_count": null,
      "outputs": []
    },
    {
      "cell_type": "markdown",
      "source": [
        "**SimpleRNN model Creation**"
      ],
      "metadata": {
        "id": "hLlLNxQpnkP8"
      }
    },
    {
      "cell_type": "code",
      "source": [
        "# no of feature in dataset\n",
        "n_features = 1"
      ],
      "metadata": {
        "id": "-Ot9PsMfdynn"
      },
      "execution_count": null,
      "outputs": []
    },
    {
      "cell_type": "code",
      "source": [
        "model = Sequential()\n",
        "\n",
        "model.add(SimpleRNN(30, input_shape= (length, n_features)))\n",
        "model.add(Dropout(0.2))\n",
        "model.add(Dense(1))\n",
        "\n",
        "model.compile(optimizer= 'adam', loss= 'mse')"
      ],
      "metadata": {
        "id": "vJ_LZba0dVnT"
      },
      "execution_count": null,
      "outputs": []
    },
    {
      "cell_type": "code",
      "source": [
        "model.summary()"
      ],
      "metadata": {
        "colab": {
          "base_uri": "https://localhost:8080/"
        },
        "id": "bwQHLYQTgVHy",
        "outputId": "ff70c8da-20b2-4cf3-fb38-43d9e331328e"
      },
      "execution_count": null,
      "outputs": [
        {
          "output_type": "stream",
          "name": "stdout",
          "text": [
            "Model: \"sequential_34\"\n",
            "_________________________________________________________________\n",
            " Layer (type)                Output Shape              Param #   \n",
            "=================================================================\n",
            " simple_rnn_32 (SimpleRNN)   (None, 30)                960       \n",
            "                                                                 \n",
            " dropout_34 (Dropout)        (None, 30)                0         \n",
            "                                                                 \n",
            " dense_34 (Dense)            (None, 1)                 31        \n",
            "                                                                 \n",
            "=================================================================\n",
            "Total params: 991\n",
            "Trainable params: 991\n",
            "Non-trainable params: 0\n",
            "_________________________________________________________________\n"
          ]
        }
      ]
    },
    {
      "cell_type": "code",
      "source": [
        "# fit created model to our dataset using generator object\n",
        "model.fit_generator(generator, epochs= 10, shuffle= False)"
      ],
      "metadata": {
        "colab": {
          "base_uri": "https://localhost:8080/"
        },
        "id": "AlV6Ivl3g2T0",
        "outputId": "4eee869e-19c1-4706-f706-d773802840e9"
      },
      "execution_count": null,
      "outputs": [
        {
          "output_type": "stream",
          "name": "stdout",
          "text": [
            "Epoch 1/10\n"
          ]
        },
        {
          "output_type": "stream",
          "name": "stderr",
          "text": [
            "/usr/local/lib/python3.7/dist-packages/ipykernel_launcher.py:2: UserWarning: `Model.fit_generator` is deprecated and will be removed in a future version. Please use `Model.fit`, which supports generators.\n",
            "  \n"
          ]
        },
        {
          "output_type": "stream",
          "name": "stdout",
          "text": [
            "8/8 [==============================] - 1s 15ms/step - loss: 0.1617\n",
            "Epoch 2/10\n",
            "8/8 [==============================] - 0s 13ms/step - loss: 0.0757\n",
            "Epoch 3/10\n",
            "8/8 [==============================] - 0s 14ms/step - loss: 0.0597\n",
            "Epoch 4/10\n",
            "8/8 [==============================] - 0s 14ms/step - loss: 0.0462\n",
            "Epoch 5/10\n",
            "8/8 [==============================] - 0s 16ms/step - loss: 0.0442\n",
            "Epoch 6/10\n",
            "8/8 [==============================] - 0s 13ms/step - loss: 0.0383\n",
            "Epoch 7/10\n",
            "8/8 [==============================] - 0s 16ms/step - loss: 0.0338\n",
            "Epoch 8/10\n",
            "8/8 [==============================] - 0s 15ms/step - loss: 0.0311\n",
            "Epoch 9/10\n",
            "8/8 [==============================] - 0s 14ms/step - loss: 0.0295\n",
            "Epoch 10/10\n",
            "8/8 [==============================] - 0s 13ms/step - loss: 0.0303\n"
          ]
        },
        {
          "output_type": "execute_result",
          "data": {
            "text/plain": [
              "<keras.callbacks.History at 0x7f9429d1a1d0>"
            ]
          },
          "metadata": {},
          "execution_count": 982
        }
      ]
    },
    {
      "cell_type": "code",
      "source": [
        "# calaculate loss of our model\n",
        "loss_df= pd.DataFrame(model.history.history)\n",
        "plt.plot(loss_df)"
      ],
      "metadata": {
        "colab": {
          "base_uri": "https://localhost:8080/",
          "height": 282
        },
        "id": "KyXGgkXghgS8",
        "outputId": "14bd49a9-6cb5-4726-e66e-d2677936aca7"
      },
      "execution_count": null,
      "outputs": [
        {
          "output_type": "execute_result",
          "data": {
            "text/plain": [
              "[<matplotlib.lines.Line2D at 0x7f9429b2b450>]"
            ]
          },
          "metadata": {},
          "execution_count": 983
        },
        {
          "output_type": "display_data",
          "data": {
            "text/plain": [
              "<Figure size 432x288 with 1 Axes>"
            ],
            "image/png": "[encoded data removed]"
          },
          "metadata": {
            "needs_background": "light"
          }
        }
      ]
    },
    {
      "cell_type": "markdown",
      "source": [
        "**Model Evaluation**"
      ],
      "metadata": {
        "id": "cm486FQTj-Zu"
      }
    },
    {
      "cell_type": "code",
      "source": [
        "first_batch_prediction = scaled_train[-length:]\n",
        "first_batch_prediction = first_batch_prediction.reshape((1,length,1))\n",
        "first_batch_prediction.shape"
      ],
      "metadata": {
        "colab": {
          "base_uri": "https://localhost:8080/"
        },
        "id": "JuL1tfwvkCRJ",
        "outputId": "e7758150-c0c9-4712-c0b9-5a329a0394f7"
      },
      "execution_count": null,
      "outputs": [
        {
          "output_type": "execute_result",
          "data": {
            "text/plain": [
              "(1, 18, 1)"
            ]
          },
          "metadata": {},
          "execution_count": 984
        }
      ]
    },
    {
      "cell_type": "code",
      "source": [
        "# using last 18 train values, we will predict first test set value\n",
        "model.predict(first_batch_prediction)"
      ],
      "metadata": {
        "colab": {
          "base_uri": "https://localhost:8080/"
        },
        "id": "cG0XygAvzuZJ",
        "outputId": "8f05283c-1cf2-4aae-d273-22cf1ea1cb21"
      },
      "execution_count": null,
      "outputs": [
        {
          "output_type": "execute_result",
          "data": {
            "text/plain": [
              "array([[0.5114201]], dtype=float32)"
            ]
          },
          "metadata": {},
          "execution_count": 985
        }
      ]
    },
    {
      "cell_type": "code",
      "source": [
        "# first test value close to preducted value\n",
        "scaled_test[0]"
      ],
      "metadata": {
        "colab": {
          "base_uri": "https://localhost:8080/"
        },
        "id": "0T1EPV2Rz3KT",
        "outputId": "ffd508ff-cd08-47eb-d991-d577e67940ae"
      },
      "execution_count": null,
      "outputs": [
        {
          "output_type": "execute_result",
          "data": {
            "text/plain": [
              "array([0.40522633])"
            ]
          },
          "metadata": {},
          "execution_count": 986
        }
      ]
    },
    {
      "cell_type": "markdown",
      "source": [
        "**Now will predict all 18 test set values**"
      ],
      "metadata": {
        "id": "EfI-2eju0WcO"
      }
    },
    {
      "cell_type": "code",
      "source": [
        "test_predictions = []\n",
        "\n",
        "first_batch = scaled_train[-length:]\n",
        "curr_batch = first_batch.reshape((1,length,n_features))\n",
        "\n",
        "for i in range(len(test)):\n",
        "  # predict will return array- price at 0th and datatype at 1st index\n",
        "  curr_pred = model.predict(curr_batch)[0]\n",
        "\n",
        "  test_predictions.append(curr_pred)\n",
        "\n",
        "  # update append(array, value)- array with droped first row and new curr_pred\n",
        "  curr_batch = np.append(curr_batch[:,1:,:], [[curr_pred]], axis=1)"
      ],
      "metadata": {
        "id": "ELu_3FDT0cuj"
      },
      "execution_count": null,
      "outputs": []
    },
    {
      "cell_type": "code",
      "source": [
        "test_predictions"
      ],
      "metadata": {
        "colab": {
          "base_uri": "https://localhost:8080/"
        },
        "id": "BonvUzHQJi9R",
        "outputId": "28909f9d-80ce-4453-acb8-afca7a342d39"
      },
      "execution_count": null,
      "outputs": [
        {
          "output_type": "execute_result",
          "data": {
            "text/plain": [
              "[array([0.5114201], dtype=float32),\n",
              " array([0.51055795], dtype=float32),\n",
              " array([0.5067714], dtype=float32),\n",
              " array([0.51498324], dtype=float32),\n",
              " array([0.54491687], dtype=float32),\n",
              " array([0.5449144], dtype=float32),\n",
              " array([0.56216156], dtype=float32),\n",
              " array([0.5565534], dtype=float32),\n",
              " array([0.56732666], dtype=float32),\n",
              " array([0.54341644], dtype=float32),\n",
              " array([0.5342748], dtype=float32),\n",
              " array([0.53144294], dtype=float32),\n",
              " array([0.53844523], dtype=float32),\n",
              " array([0.54906887], dtype=float32),\n",
              " array([0.5618], dtype=float32),\n",
              " array([0.5782578], dtype=float32),\n",
              " array([0.5742013], dtype=float32)]"
            ]
          },
          "metadata": {},
          "execution_count": 988
        }
      ]
    },
    {
      "cell_type": "markdown",
      "source": [
        "**Calculate model Accuracy**"
      ],
      "metadata": {
        "id": "Vq06njblILJ1"
      }
    },
    {
      "cell_type": "code",
      "source": [
        "import math\n",
        "from sklearn.metrics import mean_squared_error, mean_absolute_error\n",
        "print('MSE :', mean_squared_error(scaled_test, test_predictions))\n",
        "print('RMES :', math.sqrt(mean_squared_error(scaled_test, test_predictions)))\n",
        "print('MAS :', mean_absolute_error(scaled_test, test_predictions))"
      ],
      "metadata": {
        "colab": {
          "base_uri": "https://localhost:8080/"
        },
        "id": "F7kEoq_FH5Hp",
        "outputId": "a779105d-2799-4762-f261-d414c4c13ddc"
      },
      "execution_count": null,
      "outputs": [
        {
          "output_type": "stream",
          "name": "stdout",
          "text": [
            "MSE : 0.014457622568198119\n",
            "RMES : 0.12023985432541957\n",
            "MAS : 0.10823244828088308\n"
          ]
        }
      ]
    },
    {
      "cell_type": "markdown",
      "source": [
        "**Convert these values values to original format**"
      ],
      "metadata": {
        "id": "zI39izl8Jrmi"
      }
    },
    {
      "cell_type": "code",
      "source": [
        "test_predictions = scaler.inverse_transform(test_predictions)"
      ],
      "metadata": {
        "id": "U7-LcMcNJ2WK"
      },
      "execution_count": null,
      "outputs": []
    },
    {
      "cell_type": "code",
      "source": [
        "# adding new column names predicted_val to our test data\n",
        "test['RNN_prediction'] = test_predictions"
      ],
      "metadata": {
        "colab": {
          "base_uri": "https://localhost:8080/"
        },
        "id": "ZeLiZzyLKRo4",
        "outputId": "3c65bb0a-4e25-4b1d-ce7b-617a489ee66a"
      },
      "execution_count": null,
      "outputs": [
        {
          "output_type": "stream",
          "name": "stderr",
          "text": [
            "/usr/local/lib/python3.7/dist-packages/ipykernel_launcher.py:2: SettingWithCopyWarning: \n",
            "A value is trying to be set on a copy of a slice from a DataFrame.\n",
            "Try using .loc[row_indexer,col_indexer] = value instead\n",
            "\n",
            "See the caveats in the documentation: https://pandas.pydata.org/pandas-docs/stable/user_guide/indexing.html#returning-a-view-versus-a-copy\n",
            "  \n"
          ]
        }
      ]
    },
    {
      "cell_type": "code",
      "source": [
        "test"
      ],
      "metadata": {
        "colab": {
          "base_uri": "https://localhost:8080/",
          "height": 582
        },
        "id": "wMYXxPUgKi52",
        "outputId": "ef2874fd-fc07-4db3-9fe2-45f6e4232aa9"
      },
      "execution_count": null,
      "outputs": [
        {
          "output_type": "execute_result",
          "data": {
            "text/plain": [
              "      close   RNN_prediction\n",
              "231  2420.40     2491.719720\n",
              "232  2421.50     2491.140719\n",
              "233  2419.20     2488.597663\n",
              "234  2457.10     2494.112742\n",
              "235  2509.45     2514.216169\n",
              "236  2574.85     2514.214527\n",
              "237  2584.65     2525.797707\n",
              "238  2606.35     2522.031279\n",
              "239  2571.90     2529.266588\n",
              "240  2534.00     2513.208481\n",
              "241  2567.15     2507.068967\n",
              "242  2582.50     2505.167079\n",
              "243  2591.10     2509.869819\n",
              "244  2633.00     2517.004652\n",
              "245  2651.30     2525.554882\n",
              "246  2665.15     2536.607938\n",
              "247  2661.30     2533.883584"
            ],
            "text/html": [
              "\n",
              "  <div id=\"df-a2e90f0f-ca79-42fc-bb3f-4e7855fe2b7b\">\n",
              "    <div class=\"colab-df-container\">\n",
              "      <div>\n",
              "<style scoped>\n",
              "    .dataframe tbody tr th:only-of-type {\n",
              "        vertical-align: middle;\n",
              "    }\n",
              "\n",
              "    .dataframe tbody tr th {\n",
              "        vertical-align: top;\n",
              "    }\n",
              "\n",
              "    .dataframe thead th {\n",
              "        text-align: right;\n",
              "    }\n",
              "</style>\n",
              "<table border=\"1\" class=\"dataframe\">\n",
              "  <thead>\n",
              "    <tr style=\"text-align: right;\">\n",
              "      <th></th>\n",
              "      <th>close</th>\n",
              "      <th>RNN_prediction</th>\n",
              "    </tr>\n",
              "  </thead>\n",
              "  <tbody>\n",
              "    <tr>\n",
              "      <th>231</th>\n",
              "      <td>2420.40</td>\n",
              "      <td>2491.719720</td>\n",
              "    </tr>\n",
              "    <tr>\n",
              "      <th>232</th>\n",
              "      <td>2421.50</td>\n",
              "      <td>2491.140719</td>\n",
              "    </tr>\n",
              "    <tr>\n",
              "      <th>233</th>\n",
              "      <td>2419.20</td>\n",
              "      <td>2488.597663</td>\n",
              "    </tr>\n",
              "    <tr>\n",
              "      <th>234</th>\n",
              "      <td>2457.10</td>\n",
              "      <td>2494.112742</td>\n",
              "    </tr>\n",
              "    <tr>\n",
              "      <th>235</th>\n",
              "      <td>2509.45</td>\n",
              "      <td>2514.216169</td>\n",
              "    </tr>\n",
              "    <tr>\n",
              "      <th>236</th>\n",
              "      <td>2574.85</td>\n",
              "      <td>2514.214527</td>\n",
              "    </tr>\n",
              "    <tr>\n",
              "      <th>237</th>\n",
              "      <td>2584.65</td>\n",
              "      <td>2525.797707</td>\n",
              "    </tr>\n",
              "    <tr>\n",
              "      <th>238</th>\n",
              "      <td>2606.35</td>\n",
              "      <td>2522.031279</td>\n",
              "    </tr>\n",
              "    <tr>\n",
              "      <th>239</th>\n",
              "      <td>2571.90</td>\n",
              "      <td>2529.266588</td>\n",
              "    </tr>\n",
              "    <tr>\n",
              "      <th>240</th>\n",
              "      <td>2534.00</td>\n",
              "      <td>2513.208481</td>\n",
              "    </tr>\n",
              "    <tr>\n",
              "      <th>241</th>\n",
              "      <td>2567.15</td>\n",
              "      <td>2507.068967</td>\n",
              "    </tr>\n",
              "    <tr>\n",
              "      <th>242</th>\n",
              "      <td>2582.50</td>\n",
              "      <td>2505.167079</td>\n",
              "    </tr>\n",
              "    <tr>\n",
              "      <th>243</th>\n",
              "      <td>2591.10</td>\n",
              "      <td>2509.869819</td>\n",
              "    </tr>\n",
              "    <tr>\n",
              "      <th>244</th>\n",
              "      <td>2633.00</td>\n",
              "      <td>2517.004652</td>\n",
              "    </tr>\n",
              "    <tr>\n",
              "      <th>245</th>\n",
              "      <td>2651.30</td>\n",
              "      <td>2525.554882</td>\n",
              "    </tr>\n",
              "    <tr>\n",
              "      <th>246</th>\n",
              "      <td>2665.15</td>\n",
              "      <td>2536.607938</td>\n",
              "    </tr>\n",
              "    <tr>\n",
              "      <th>247</th>\n",
              "      <td>2661.30</td>\n",
              "      <td>2533.883584</td>\n",
              "    </tr>\n",
              "  </tbody>\n",
              "</table>\n",
              "</div>\n",
              "      <button class=\"colab-df-convert\" onclick=\"convertToInteractive('df-a2e90f0f-ca79-42fc-bb3f-4e7855fe2b7b')\"\n",
              "              title=\"Convert this dataframe to an interactive table.\"\n",
              "              style=\"display:none;\">\n",
              "        \n",
              "  <svg xmlns=\"http://www.w3.org/2000/svg\" height=\"24px\"viewBox=\"0 0 24 24\"\n",
              "       width=\"24px\">\n",
              "    <path d=\"M0 0h24v24H0V0z\" fill=\"none\"/>\n",
              "    <path d=\"M18.56 5.44l.94 2.06.94-2.06 2.06-.94-2.06-.94-.94-2.06-.94 2.06-2.06.94zm-11 1L8.5 8.5l.94-2.06 2.06-.94-2.06-.94L8.5 2.5l-.94 2.06-2.06.94zm10 10l.94 2.06.94-2.06 2.06-.94-2.06-.94-.94-2.06-.94 2.06-2.06.94z\"/><path d=\"M17.41 7.96l-1.37-1.37c-.4-.4-.92-.59-1.43-.59-.52 0-1.04.2-1.43.59L10.3 9.45l-7.72 7.72c-.78.78-.78 2.05 0 2.83L4 21.41c.39.39.9.59 1.41.59.51 0 1.02-.2 1.41-.59l7.78-7.78 2.81-2.81c.8-.78.8-2.07 0-2.86zM5.41 20L4 18.59l7.72-7.72 1.47 1.35L5.41 20z\"/>\n",
              "  </svg>\n",
              "      </button>\n",
              "      \n",
              "  <style>\n",
              "    .colab-df-container {\n",
              "      display:flex;\n",
              "      flex-wrap:wrap;\n",
              "      gap: 12px;\n",
              "    }\n",
              "\n",
              "    .colab-df-convert {\n",
              "      background-color: #E8F0FE;\n",
              "      border: none;\n",
              "      border-radius: 50%;\n",
              "      cursor: pointer;\n",
              "      display: none;\n",
              "      fill: #1967D2;\n",
              "      height: 32px;\n",
              "      padding: 0 0 0 0;\n",
              "      width: 32px;\n",
              "    }\n",
              "\n",
              "    .colab-df-convert:hover {\n",
              "      background-color: #E2EBFA;\n",
              "      box-shadow: 0px 1px 2px rgba(60, 64, 67, 0.3), 0px 1px 3px 1px rgba(60, 64, 67, 0.15);\n",
              "      fill: #174EA6;\n",
              "    }\n",
              "\n",
              "    [theme=dark] .colab-df-convert {\n",
              "      background-color: #3B4455;\n",
              "      fill: #D2E3FC;\n",
              "    }\n",
              "\n",
              "    [theme=dark] .colab-df-convert:hover {\n",
              "      background-color: #434B5C;\n",
              "      box-shadow: 0px 1px 3px 1px rgba(0, 0, 0, 0.15);\n",
              "      filter: drop-shadow(0px 1px 2px rgba(0, 0, 0, 0.3));\n",
              "      fill: #FFFFFF;\n",
              "    }\n",
              "  </style>\n",
              "\n",
              "      <script>\n",
              "        const buttonEl =\n",
              "          document.querySelector('#df-a2e90f0f-ca79-42fc-bb3f-4e7855fe2b7b button.colab-df-convert');\n",
              "        buttonEl.style.display =\n",
              "          google.colab.kernel.accessAllowed ? 'block' : 'none';\n",
              "\n",
              "        async function convertToInteractive(key) {\n",
              "          const element = document.querySelector('#df-a2e90f0f-ca79-42fc-bb3f-4e7855fe2b7b');\n",
              "          const dataTable =\n",
              "            await google.colab.kernel.invokeFunction('convertToInteractive',\n",
              "                                                     [key], {});\n",
              "          if (!dataTable) return;\n",
              "\n",
              "          const docLinkHtml = 'Like what you see? Visit the ' +\n",
              "            '<a target=\"_blank\" href=https://colab.research.google.com/notebooks/data_table.ipynb>data table notebook</a>'\n",
              "            + ' to learn more about interactive tables.';\n",
              "          element.innerHTML = '';\n",
              "          dataTable['output_type'] = 'display_data';\n",
              "          await google.colab.output.renderOutput(dataTable, element);\n",
              "          const docLink = document.createElement('div');\n",
              "          docLink.innerHTML = docLinkHtml;\n",
              "          element.appendChild(docLink);\n",
              "        }\n",
              "      </script>\n",
              "    </div>\n",
              "  </div>\n",
              "  "
            ]
          },
          "metadata": {},
          "execution_count": 992
        }
      ]
    },
    {
      "cell_type": "code",
      "source": [
        "plt.plot(test['close '], label ='test_val')\n",
        "plt.plot(test['RNN_prediction'], label= 'predicted_val')\n",
        "plt.legend()"
      ],
      "metadata": {
        "colab": {
          "base_uri": "https://localhost:8080/",
          "height": 282
        },
        "id": "h6MZgorDKx51",
        "outputId": "2cc5e01f-e5c5-494e-ba60-ab8ba247ee02"
      },
      "execution_count": null,
      "outputs": [
        {
          "output_type": "execute_result",
          "data": {
            "text/plain": [
              "<matplotlib.legend.Legend at 0x7f9429e2d0d0>"
            ]
          },
          "metadata": {},
          "execution_count": 993
        },
        {
          "output_type": "display_data",
          "data": {
            "text/plain": [
              "<Figure size 432x288 with 1 Axes>"
            ],
            "image/png": "[encoded data removed]"
          },
          "metadata": {
            "needs_background": "light"
          }
        }
      ]
    },
    {
      "cell_type": "markdown",
      "source": [
        "**Create model on full dataset**"
      ],
      "metadata": {
        "id": "v5KMzOITKUqn"
      }
    },
    {
      "cell_type": "code",
      "source": [
        "scaled_full_data = scaler.fit_transform(reliance_price)"
      ],
      "metadata": {
        "id": "gGuw2PHnMt15"
      },
      "execution_count": null,
      "outputs": []
    },
    {
      "cell_type": "code",
      "source": [
        "# generator for new data\n",
        "generator = TimeseriesGenerator(scaled_full_data, scaled_full_data,length= length, batch_size= batch_size)"
      ],
      "metadata": {
        "id": "xCwVukgJNx1m"
      },
      "execution_count": null,
      "outputs": []
    },
    {
      "cell_type": "code",
      "source": [
        "# create model again\n",
        "model2 = Sequential()\n",
        "model2.add(SimpleRNN(30,input_shape = (length, n_features)))\n",
        "model2.add(Dropout(0.2))\n",
        "model2.add(Dense(1))\n",
        "\n",
        "model2.compile(optimizer='adam', loss='mse')"
      ],
      "metadata": {
        "id": "ZB6Z6QjBOHXJ"
      },
      "execution_count": null,
      "outputs": []
    },
    {
      "cell_type": "code",
      "source": [
        "model2.summary()"
      ],
      "metadata": {
        "colab": {
          "base_uri": "https://localhost:8080/"
        },
        "id": "kJ0niJlWO3dZ",
        "outputId": "d8e28b95-cc06-471f-854b-e494770e105c"
      },
      "execution_count": null,
      "outputs": [
        {
          "output_type": "stream",
          "name": "stdout",
          "text": [
            "Model: \"sequential_35\"\n",
            "_________________________________________________________________\n",
            " Layer (type)                Output Shape              Param #   \n",
            "=================================================================\n",
            " simple_rnn_33 (SimpleRNN)   (None, 30)                960       \n",
            "                                                                 \n",
            " dropout_35 (Dropout)        (None, 30)                0         \n",
            "                                                                 \n",
            " dense_35 (Dense)            (None, 1)                 31        \n",
            "                                                                 \n",
            "=================================================================\n",
            "Total params: 991\n",
            "Trainable params: 991\n",
            "Non-trainable params: 0\n",
            "_________________________________________________________________\n"
          ]
        }
      ]
    },
    {
      "cell_type": "code",
      "source": [
        "model2.fit_generator(generator, epochs= 10, shuffle= False)"
      ],
      "metadata": {
        "colab": {
          "base_uri": "https://localhost:8080/"
        },
        "id": "Yb05cL4GOwYS",
        "outputId": "cb92919d-51e9-413f-db92-4a66ddbcea06"
      },
      "execution_count": null,
      "outputs": [
        {
          "output_type": "stream",
          "name": "stdout",
          "text": [
            "Epoch 1/10\n"
          ]
        },
        {
          "output_type": "stream",
          "name": "stderr",
          "text": [
            "/usr/local/lib/python3.7/dist-packages/ipykernel_launcher.py:1: UserWarning: `Model.fit_generator` is deprecated and will be removed in a future version. Please use `Model.fit`, which supports generators.\n",
            "  \"\"\"Entry point for launching an IPython kernel.\n"
          ]
        },
        {
          "output_type": "stream",
          "name": "stdout",
          "text": [
            "8/8 [==============================] - 1s 15ms/step - loss: 0.3740\n",
            "Epoch 2/10\n",
            "8/8 [==============================] - 0s 18ms/step - loss: 0.1642\n",
            "Epoch 3/10\n",
            "8/8 [==============================] - 0s 14ms/step - loss: 0.1161\n",
            "Epoch 4/10\n",
            "8/8 [==============================] - 0s 13ms/step - loss: 0.0876\n",
            "Epoch 5/10\n",
            "8/8 [==============================] - 0s 14ms/step - loss: 0.0631\n",
            "Epoch 6/10\n",
            "8/8 [==============================] - 0s 13ms/step - loss: 0.0720\n",
            "Epoch 7/10\n",
            "8/8 [==============================] - 0s 16ms/step - loss: 0.0684\n",
            "Epoch 8/10\n",
            "8/8 [==============================] - 0s 16ms/step - loss: 0.0611\n",
            "Epoch 9/10\n",
            "8/8 [==============================] - 0s 19ms/step - loss: 0.0510\n",
            "Epoch 10/10\n",
            "8/8 [==============================] - 0s 17ms/step - loss: 0.0469\n"
          ]
        },
        {
          "output_type": "execute_result",
          "data": {
            "text/plain": [
              "<keras.callbacks.History at 0x7f9429ae1a10>"
            ]
          },
          "metadata": {},
          "execution_count": 998
        }
      ]
    },
    {
      "cell_type": "code",
      "source": [
        "loss_df_2 = pd.DataFrame(model2.history.history)\n",
        "plt.plot(loss_df_2)"
      ],
      "metadata": {
        "colab": {
          "base_uri": "https://localhost:8080/",
          "height": 282
        },
        "id": "TnOiyMGQO8Zc",
        "outputId": "06a12685-74f3-40c0-a983-59520ab19ffa"
      },
      "execution_count": null,
      "outputs": [
        {
          "output_type": "execute_result",
          "data": {
            "text/plain": [
              "[<matplotlib.lines.Line2D at 0x7f9428011390>]"
            ]
          },
          "metadata": {},
          "execution_count": 999
        },
        {
          "output_type": "display_data",
          "data": {
            "text/plain": [
              "<Figure size 432x288 with 1 Axes>"
            ],
            "image/png": "[encoded data removed]"
          },
          "metadata": {
            "needs_background": "light"
          }
        }
      ]
    },
    {
      "cell_type": "markdown",
      "source": [
        "**Model Forecast for next 18 days**"
      ],
      "metadata": {
        "id": "-zytwtiJQCjH"
      }
    },
    {
      "cell_type": "code",
      "source": [
        "forecast = []\n",
        "\n",
        "first_batch = scaled_full_data[-length:]\n",
        "curr_batch = first_batch.reshape((1,length,n_features))\n",
        "\n",
        "for i in range(len(test)):\n",
        "\n",
        "  curr_pred = model2.predict(curr_batch)[0]\n",
        "\n",
        "  forecast.append(curr_pred)\n",
        "\n",
        "  curr_batch = np.append(curr_batch[:,1:,:], [[curr_pred]], axis=1)"
      ],
      "metadata": {
        "id": "_pxIu9ewP39B"
      },
      "execution_count": null,
      "outputs": []
    },
    {
      "cell_type": "code",
      "source": [
        "forecast"
      ],
      "metadata": {
        "colab": {
          "base_uri": "https://localhost:8080/"
        },
        "id": "qKVUqF-PRDMX",
        "outputId": "8f77279a-f7cb-402e-b8bf-ded061cb1470"
      },
      "execution_count": null,
      "outputs": [
        {
          "output_type": "execute_result",
          "data": {
            "text/plain": [
              "[array([0.747482], dtype=float32),\n",
              " array([0.7243382], dtype=float32),\n",
              " array([0.69646746], dtype=float32),\n",
              " array([0.6827232], dtype=float32),\n",
              " array([0.6659416], dtype=float32),\n",
              " array([0.66438], dtype=float32),\n",
              " array([0.6744318], dtype=float32),\n",
              " array([0.67463785], dtype=float32),\n",
              " array([0.6936014], dtype=float32),\n",
              " array([0.69196665], dtype=float32),\n",
              " array([0.6824309], dtype=float32),\n",
              " array([0.6856096], dtype=float32),\n",
              " array([0.67381245], dtype=float32),\n",
              " array([0.6616746], dtype=float32),\n",
              " array([0.6571666], dtype=float32),\n",
              " array([0.65297514], dtype=float32),\n",
              " array([0.65243375], dtype=float32)]"
            ]
          },
          "metadata": {},
          "execution_count": 1001
        }
      ]
    },
    {
      "cell_type": "code",
      "source": [
        "# convert scaled forecasted value to original values\n",
        "forecast = scaler.inverse_transform(forecast)\n",
        "forecast"
      ],
      "metadata": {
        "colab": {
          "base_uri": "https://localhost:8080/"
        },
        "id": "S4igSxb8RGvq",
        "outputId": "0ba9eec6-4dc5-4cc7-82d7-60267c377ce4"
      },
      "execution_count": null,
      "outputs": [
        {
          "output_type": "execute_result",
          "data": {
            "text/plain": [
              "array([[2650.2589124 ],\n",
              "       [2634.71551757],\n",
              "       [2615.9975456 ],\n",
              "       [2606.76691735],\n",
              "       [2595.49637589],\n",
              "       [2594.44761736],\n",
              "       [2601.19839745],\n",
              "       [2601.33678281],\n",
              "       [2614.07272003],\n",
              "       [2612.97480407],\n",
              "       [2606.57060788],\n",
              "       [2608.70539331],\n",
              "       [2600.78244073],\n",
              "       [2592.63067393],\n",
              "       [2589.60308871],\n",
              "       [2586.78810537],\n",
              "       [2586.42450852]])"
            ]
          },
          "metadata": {},
          "execution_count": 1002
        }
      ]
    },
    {
      "cell_type": "code",
      "source": [
        "# convert this from 2D to 1D array\n",
        "forecast.flatten()"
      ],
      "metadata": {
        "colab": {
          "base_uri": "https://localhost:8080/"
        },
        "id": "knoOSvz9Rlwl",
        "outputId": "3800d9ea-e73d-487b-af1c-745d00e3507d"
      },
      "execution_count": null,
      "outputs": [
        {
          "output_type": "execute_result",
          "data": {
            "text/plain": [
              "array([2650.2589124 , 2634.71551757, 2615.9975456 , 2606.76691735,\n",
              "       2595.49637589, 2594.44761736, 2601.19839745, 2601.33678281,\n",
              "       2614.07272003, 2612.97480407, 2606.57060788, 2608.70539331,\n",
              "       2600.78244073, 2592.63067393, 2589.60308871, 2586.78810537,\n",
              "       2586.42450852])"
            ]
          },
          "metadata": {},
          "execution_count": 1003
        }
      ]
    },
    {
      "cell_type": "markdown",
      "source": [
        "**Adding forecasted value to our dataset & visualize**"
      ],
      "metadata": {
        "id": "SfoNofbTSA_N"
      }
    },
    {
      "cell_type": "code",
      "source": [
        "df_array = np.array(reliance_price)\n",
        "df_array"
      ],
      "metadata": {
        "colab": {
          "base_uri": "https://localhost:8080/"
        },
        "id": "OJqRJj0JR_33",
        "outputId": "46a47dea-3f42-4237-d552-1ff9e84bcf9f"
      },
      "execution_count": null,
      "outputs": [
        {
          "output_type": "execute_result",
          "data": {
            "text/plain": [
              "array([[2148.25],\n",
              "       [2162.35],\n",
              "       [2183.7 ],\n",
              "       [2202.6 ],\n",
              "       [2230.45],\n",
              "       [2227.4 ],\n",
              "       [2270.25],\n",
              "       [2258.15],\n",
              "       [2267.1 ],\n",
              "       [2294.4 ],\n",
              "       [2388.5 ],\n",
              "       [2425.6 ],\n",
              "       [2440.9 ],\n",
              "       [2431.35],\n",
              "       [2425.6 ],\n",
              "       [2371.55],\n",
              "       [2368.45],\n",
              "       [2378.3 ],\n",
              "       [2428.2 ],\n",
              "       [2390.55],\n",
              "       [2394.35],\n",
              "       [2404.7 ],\n",
              "       [2430.5 ],\n",
              "       [2489.9 ],\n",
              "       [2482.7 ],\n",
              "       [2524.45],\n",
              "       [2548.05],\n",
              "       [2527.85],\n",
              "       [2519.25],\n",
              "       [2523.7 ],\n",
              "       [2556.15],\n",
              "       [2609.2 ],\n",
              "       [2559.85],\n",
              "       [2572.4 ],\n",
              "       [2671.25],\n",
              "       [2652.65],\n",
              "       [2667.8 ],\n",
              "       [2694.95],\n",
              "       [2700.4 ],\n",
              "       [2707.6 ],\n",
              "       [2731.85],\n",
              "       [2700.4 ],\n",
              "       [2622.5 ],\n",
              "       [2627.4 ],\n",
              "       [2601.8 ],\n",
              "       [2661.05],\n",
              "       [2627.4 ],\n",
              "       [2598.6 ],\n",
              "       [2536.25],\n",
              "       [2537.8 ],\n",
              "       [2500.8 ],\n",
              "       [2483.6 ],\n",
              "       [2498.85],\n",
              "       [2501.95],\n",
              "       [2521.7 ],\n",
              "       [2549.9 ],\n",
              "       [2554.55],\n",
              "       [2593.1 ],\n",
              "       [2577.8 ],\n",
              "       [2517.9 ],\n",
              "       [2464.  ],\n",
              "       [2473.3 ],\n",
              "       [2363.75],\n",
              "       [2385.85],\n",
              "       [2351.4 ],\n",
              "       [2492.95],\n",
              "       [2412.6 ],\n",
              "       [2441.5 ],\n",
              "       [2405.4 ],\n",
              "       [2467.  ],\n",
              "       [2482.85],\n",
              "       [2408.25],\n",
              "       [2362.6 ],\n",
              "       [2381.85],\n",
              "       [2418.1 ],\n",
              "       [2456.45],\n",
              "       [2458.95],\n",
              "       [2409.65],\n",
              "       [2380.15],\n",
              "       [2373.2 ],\n",
              "       [2403.9 ],\n",
              "       [2340.45],\n",
              "       [2277.35],\n",
              "       [2311.25],\n",
              "       [2366.1 ],\n",
              "       [2365.25],\n",
              "       [2372.8 ],\n",
              "       [2370.25],\n",
              "       [2398.4 ],\n",
              "       [2402.5 ],\n",
              "       [2359.1 ],\n",
              "       [2368.15],\n",
              "       [2403.85],\n",
              "       [2458.1 ],\n",
              "       [2469.6 ],\n",
              "       [2416.5 ],\n",
              "       [2436.  ],\n",
              "       [2438.  ],\n",
              "       [2455.55],\n",
              "       [2521.1 ],\n",
              "       [2535.3 ],\n",
              "       [2539.  ],\n",
              "       [2552.25],\n",
              "       [2521.8 ],\n",
              "       [2521.6 ],\n",
              "       [2477.45],\n",
              "       [2477.85],\n",
              "       [2377.9 ],\n",
              "       [2373.25],\n",
              "       [2338.1 ],\n",
              "       [2335.85],\n",
              "       [2386.6 ],\n",
              "       [2378.7 ],\n",
              "       [2383.55],\n",
              "       [2352.75],\n",
              "       [2331.3 ],\n",
              "       [2317.1 ],\n",
              "       [2356.05],\n",
              "       [2383.5 ],\n",
              "       [2381.05],\n",
              "       [2376.4 ],\n",
              "       [2338.55],\n",
              "       [2417.95],\n",
              "       [2412.95],\n",
              "       [2443.5 ],\n",
              "       [2424.4 ],\n",
              "       [2399.9 ],\n",
              "       [2389.  ],\n",
              "       [2374.05],\n",
              "       [2255.75],\n",
              "       [2283.95],\n",
              "       [2359.55],\n",
              "       [2398.55],\n",
              "       [2378.3 ],\n",
              "       [2325.55],\n",
              "       [2239.55],\n",
              "       [2235.5 ],\n",
              "       [2354.1 ],\n",
              "       [2392.25],\n",
              "       [2399.15],\n",
              "       [2418.85],\n",
              "       [2363.45],\n",
              "       [2403.35],\n",
              "       [2481.7 ],\n",
              "       [2467.4 ],\n",
              "       [2531.15],\n",
              "       [2539.2 ],\n",
              "       [2578.65],\n",
              "       [2595.85],\n",
              "       [2621.95],\n",
              "       [2622.55],\n",
              "       [2672.95],\n",
              "       [2634.75],\n",
              "       [2655.85],\n",
              "       [2663.7 ],\n",
              "       [2626.05],\n",
              "       [2619.05],\n",
              "       [2572.85],\n",
              "       [2615.65],\n",
              "       [2610.2 ],\n",
              "       [2561.05],\n",
              "       [2551.65],\n",
              "       [2543.85],\n",
              "       [2640.8 ],\n",
              "       [2718.45],\n",
              "       [2782.1 ],\n",
              "       [2758.8 ],\n",
              "       [2695.  ],\n",
              "       [2775.65],\n",
              "       [2778.35],\n",
              "       [2819.85],\n",
              "       [2790.25],\n",
              "       [2780.45],\n",
              "       [2693.65],\n",
              "       [2640.9 ],\n",
              "       [2620.65],\n",
              "       [2518.3 ],\n",
              "       [2474.65],\n",
              "       [2449.3 ],\n",
              "       [2399.4 ],\n",
              "       [2426.6 ],\n",
              "       [2427.2 ],\n",
              "       [2529.15],\n",
              "       [2538.35],\n",
              "       [2479.85],\n",
              "       [2624.45],\n",
              "       [2606.9 ],\n",
              "       [2615.85],\n",
              "       [2612.  ],\n",
              "       [2587.1 ],\n",
              "       [2575.1 ],\n",
              "       [2664.8 ],\n",
              "       [2632.65],\n",
              "       [2633.5 ],\n",
              "       [2724.3 ],\n",
              "       [2779.5 ],\n",
              "       [2767.55],\n",
              "       [2772.75],\n",
              "       [2724.05],\n",
              "       [2798.75],\n",
              "       [2714.25],\n",
              "       [2662.9 ],\n",
              "       [2628.1 ],\n",
              "       [2596.3 ],\n",
              "       [2560.  ],\n",
              "       [2590.  ],\n",
              "       [2543.05],\n",
              "       [2584.1 ],\n",
              "       [2505.6 ],\n",
              "       [2464.95],\n",
              "       [2500.05],\n",
              "       [2492.65],\n",
              "       [2527.7 ],\n",
              "       [2580.15],\n",
              "       [2595.65],\n",
              "       [2408.7 ],\n",
              "       [2413.7 ],\n",
              "       [2433.25],\n",
              "       [2411.85],\n",
              "       [2388.1 ],\n",
              "       [2391.4 ],\n",
              "       [2423.9 ],\n",
              "       [2420.45],\n",
              "       [2377.55],\n",
              "       [2397.15],\n",
              "       [2401.8 ],\n",
              "       [2422.25],\n",
              "       [2437.1 ],\n",
              "       [2503.  ],\n",
              "       [2486.3 ],\n",
              "       [2503.1 ],\n",
              "       [2420.4 ],\n",
              "       [2421.5 ],\n",
              "       [2419.2 ],\n",
              "       [2457.1 ],\n",
              "       [2509.45],\n",
              "       [2574.85],\n",
              "       [2584.65],\n",
              "       [2606.35],\n",
              "       [2571.9 ],\n",
              "       [2534.  ],\n",
              "       [2567.15],\n",
              "       [2582.5 ],\n",
              "       [2591.1 ],\n",
              "       [2633.  ],\n",
              "       [2651.3 ],\n",
              "       [2665.15],\n",
              "       [2661.3 ]])"
            ]
          },
          "metadata": {},
          "execution_count": 1004
        }
      ]
    },
    {
      "cell_type": "code",
      "source": [
        "new_data = pd.DataFrame(np.concatenate((df_array, forecast)))\n",
        "plt.plot(new_data)"
      ],
      "metadata": {
        "colab": {
          "base_uri": "https://localhost:8080/",
          "height": 282
        },
        "id": "HXlWw7zsS36l",
        "outputId": "191c86b5-0109-4c9f-83ab-d375db6154a6"
      },
      "execution_count": null,
      "outputs": [
        {
          "output_type": "execute_result",
          "data": {
            "text/plain": [
              "[<matplotlib.lines.Line2D at 0x7f94299f5210>]"
            ]
          },
          "metadata": {},
          "execution_count": 1005
        },
        {
          "output_type": "display_data",
          "data": {
            "text/plain": [
              "<Figure size 432x288 with 1 Axes>"
            ],
            "image/png": "[encoded data removed]"
          },
          "metadata": {
            "needs_background": "light"
          }
        }
      ]
    },
    {
      "cell_type": "markdown",
      "source": [
        "**Creating LSTM Model**"
      ],
      "metadata": {
        "id": "JbV98fFlJxFL"
      }
    },
    {
      "cell_type": "code",
      "source": [
        "# creating generator\n",
        "length = 18\n",
        "batch_size = 30\n",
        "\n",
        "# will crate generator on train data and will predict and validate on 18 test data\n",
        "generator = TimeseriesGenerator(scaled_train, scaled_train, length= length, batch_size= batch_size)"
      ],
      "metadata": {
        "id": "L_GofXCVJ1Ss"
      },
      "execution_count": null,
      "outputs": []
    },
    {
      "cell_type": "code",
      "source": [
        "model3 = Sequential()\n",
        "\n",
        "model3.add(LSTM(30, input_shape= (length, n_features)))\n",
        "model3.add(Dropout(0.2))\n",
        "model3.add(Dense(1))\n",
        "\n",
        "model3.compile(optimizer= 'adam', loss= 'mse')"
      ],
      "metadata": {
        "id": "pbO6ixheZ24_"
      },
      "execution_count": null,
      "outputs": []
    },
    {
      "cell_type": "code",
      "source": [
        "model3.fit_generator(generator, epochs= 10, shuffle= False)"
      ],
      "metadata": {
        "colab": {
          "base_uri": "https://localhost:8080/"
        },
        "id": "7IasEV-saLDt",
        "outputId": "cef0698f-d12b-4570-f27c-ba4bd3611166"
      },
      "execution_count": null,
      "outputs": [
        {
          "output_type": "stream",
          "name": "stdout",
          "text": [
            "Epoch 1/10\n"
          ]
        },
        {
          "output_type": "stream",
          "name": "stderr",
          "text": [
            "/usr/local/lib/python3.7/dist-packages/ipykernel_launcher.py:1: UserWarning: `Model.fit_generator` is deprecated and will be removed in a future version. Please use `Model.fit`, which supports generators.\n",
            "  \"\"\"Entry point for launching an IPython kernel.\n"
          ]
        },
        {
          "output_type": "stream",
          "name": "stdout",
          "text": [
            "8/8 [==============================] - 2s 4ms/step - loss: 0.2133\n",
            "Epoch 2/10\n",
            "8/8 [==============================] - 0s 4ms/step - loss: 0.0817\n",
            "Epoch 3/10\n",
            "8/8 [==============================] - 0s 4ms/step - loss: 0.0293\n",
            "Epoch 4/10\n",
            "8/8 [==============================] - 0s 4ms/step - loss: 0.0319\n",
            "Epoch 5/10\n",
            "8/8 [==============================] - 0s 4ms/step - loss: 0.0204\n",
            "Epoch 6/10\n",
            "8/8 [==============================] - 0s 4ms/step - loss: 0.0214\n",
            "Epoch 7/10\n",
            "8/8 [==============================] - 0s 4ms/step - loss: 0.0232\n",
            "Epoch 8/10\n",
            "8/8 [==============================] - 0s 5ms/step - loss: 0.0221\n",
            "Epoch 9/10\n",
            "8/8 [==============================] - 0s 4ms/step - loss: 0.0213\n",
            "Epoch 10/10\n",
            "8/8 [==============================] - 0s 4ms/step - loss: 0.0201\n"
          ]
        },
        {
          "output_type": "execute_result",
          "data": {
            "text/plain": [
              "<keras.callbacks.History at 0x7f94265d2710>"
            ]
          },
          "metadata": {},
          "execution_count": 1008
        }
      ]
    },
    {
      "cell_type": "code",
      "source": [
        "loss_df_3 = pd.DataFrame(model3.history.history)\n",
        "plt.plot(loss_df_3)"
      ],
      "metadata": {
        "colab": {
          "base_uri": "https://localhost:8080/",
          "height": 282
        },
        "id": "JX6QCaHdaTax",
        "outputId": "ca95612b-9df2-44c5-ab54-8f56380306d8"
      },
      "execution_count": null,
      "outputs": [
        {
          "output_type": "execute_result",
          "data": {
            "text/plain": [
              "[<matplotlib.lines.Line2D at 0x7f9426dc6810>]"
            ]
          },
          "metadata": {},
          "execution_count": 1009
        },
        {
          "output_type": "display_data",
          "data": {
            "text/plain": [
              "<Figure size 432x288 with 1 Axes>"
            ],
            "image/png": "[encoded data removed]"
          },
          "metadata": {
            "needs_background": "light"
          }
        }
      ]
    },
    {
      "cell_type": "markdown",
      "source": [
        "**Model Evaluation**"
      ],
      "metadata": {
        "id": "6OXAgLrVabco"
      }
    },
    {
      "cell_type": "code",
      "source": [
        "test_predictions = []\n",
        "\n",
        "first_batch = scaled_train[-length:]\n",
        "curr_batch = first_batch.reshape((1,length,n_features))\n",
        "\n",
        "for i in range(len(test)):\n",
        "  # predict will return array- price at 0th and datatype at 1st index\n",
        "  curr_pred = model3.predict(curr_batch)[0]\n",
        "\n",
        "  test_predictions.append(curr_pred)\n",
        "\n",
        "  # update append(array, value)- array with droped first row and new curr_pred\n",
        "  curr_batch = np.append(curr_batch[:,1:,:], [[curr_pred]], axis=1)"
      ],
      "metadata": {
        "id": "Zj-xZst2aenb"
      },
      "execution_count": null,
      "outputs": []
    },
    {
      "cell_type": "code",
      "source": [
        "import math\n",
        "from sklearn.metrics import mean_squared_error, mean_absolute_error\n",
        "print('MSE :', mean_squared_error(scaled_test, test_predictions))\n",
        "print('RMES :', math.sqrt(mean_squared_error(scaled_test, test_predictions)))\n",
        "print('MAS :', mean_absolute_error(scaled_test, test_predictions))"
      ],
      "metadata": {
        "colab": {
          "base_uri": "https://localhost:8080/"
        },
        "id": "l7s6XnoWam-o",
        "outputId": "506fb28f-0754-4471-8c3b-37f20f9e1947"
      },
      "execution_count": null,
      "outputs": [
        {
          "output_type": "stream",
          "name": "stdout",
          "text": [
            "MSE : 0.0239616018978634\n",
            "RMES : 0.15479535489756596\n",
            "MAS : 0.13791159071004488\n"
          ]
        }
      ]
    },
    {
      "cell_type": "code",
      "source": [
        "test_predictions = scaler.inverse_transform(test_predictions)"
      ],
      "metadata": {
        "id": "LCE9Sgafaucu"
      },
      "execution_count": null,
      "outputs": []
    },
    {
      "cell_type": "code",
      "source": [
        "test['LSTM_prediction'] = test_predictions"
      ],
      "metadata": {
        "colab": {
          "base_uri": "https://localhost:8080/"
        },
        "id": "TrMRrty6a1vE",
        "outputId": "12b6f4ff-fe32-43ca-9289-cee7f33cbca3"
      },
      "execution_count": null,
      "outputs": [
        {
          "output_type": "stream",
          "name": "stderr",
          "text": [
            "/usr/local/lib/python3.7/dist-packages/ipykernel_launcher.py:1: SettingWithCopyWarning: \n",
            "A value is trying to be set on a copy of a slice from a DataFrame.\n",
            "Try using .loc[row_indexer,col_indexer] = value instead\n",
            "\n",
            "See the caveats in the documentation: https://pandas.pydata.org/pandas-docs/stable/user_guide/indexing.html#returning-a-view-versus-a-copy\n",
            "  \"\"\"Entry point for launching an IPython kernel.\n"
          ]
        }
      ]
    },
    {
      "cell_type": "code",
      "source": [
        "test"
      ],
      "metadata": {
        "colab": {
          "base_uri": "https://localhost:8080/",
          "height": 582
        },
        "id": "Ql20ySCQa8zt",
        "outputId": "c3b933ac-35a9-49ff-9b65-a8a68dca2e90"
      },
      "execution_count": null,
      "outputs": [
        {
          "output_type": "execute_result",
          "data": {
            "text/plain": [
              "      close   RNN_prediction  LSTM_prediction\n",
              "231  2420.40     2491.719720      2464.462066\n",
              "232  2421.50     2491.140719      2467.203313\n",
              "233  2419.20     2488.597663      2469.746149\n",
              "234  2457.10     2494.112742      2472.574502\n",
              "235  2509.45     2514.216169      2475.071964\n",
              "236  2574.85     2514.214527      2477.267356\n",
              "237  2584.65     2525.797707      2479.344777\n",
              "238  2606.35     2522.031279      2481.334112\n",
              "239  2571.90     2529.266588      2483.168769\n",
              "240  2534.00     2513.208481      2484.785720\n",
              "241  2567.15     2507.068967      2486.324172\n",
              "242  2582.50     2505.167079      2487.907097\n",
              "243  2591.10     2509.869819      2489.334664\n",
              "244  2633.00     2517.004652      2490.670761\n",
              "245  2651.30     2525.554882      2491.877120\n",
              "246  2665.15     2536.607938      2492.984443\n",
              "247  2661.30     2533.883584      2493.850862"
            ],
            "text/html": [
              "\n",
              "  <div id=\"df-e7e3848c-d337-447e-affd-c905508219f5\">\n",
              "    <div class=\"colab-df-container\">\n",
              "      <div>\n",
              "<style scoped>\n",
              "    .dataframe tbody tr th:only-of-type {\n",
              "        vertical-align: middle;\n",
              "    }\n",
              "\n",
              "    .dataframe tbody tr th {\n",
              "        vertical-align: top;\n",
              "    }\n",
              "\n",
              "    .dataframe thead th {\n",
              "        text-align: right;\n",
              "    }\n",
              "</style>\n",
              "<table border=\"1\" class=\"dataframe\">\n",
              "  <thead>\n",
              "    <tr style=\"text-align: right;\">\n",
              "      <th></th>\n",
              "      <th>close</th>\n",
              "      <th>RNN_prediction</th>\n",
              "      <th>LSTM_prediction</th>\n",
              "    </tr>\n",
              "  </thead>\n",
              "  <tbody>\n",
              "    <tr>\n",
              "      <th>231</th>\n",
              "      <td>2420.40</td>\n",
              "      <td>2491.719720</td>\n",
              "      <td>2464.462066</td>\n",
              "    </tr>\n",
              "    <tr>\n",
              "      <th>232</th>\n",
              "      <td>2421.50</td>\n",
              "      <td>2491.140719</td>\n",
              "      <td>2467.203313</td>\n",
              "    </tr>\n",
              "    <tr>\n",
              "      <th>233</th>\n",
              "      <td>2419.20</td>\n",
              "      <td>2488.597663</td>\n",
              "      <td>2469.746149</td>\n",
              "    </tr>\n",
              "    <tr>\n",
              "      <th>234</th>\n",
              "      <td>2457.10</td>\n",
              "      <td>2494.112742</td>\n",
              "      <td>2472.574502</td>\n",
              "    </tr>\n",
              "    <tr>\n",
              "      <th>235</th>\n",
              "      <td>2509.45</td>\n",
              "      <td>2514.216169</td>\n",
              "      <td>2475.071964</td>\n",
              "    </tr>\n",
              "    <tr>\n",
              "      <th>236</th>\n",
              "      <td>2574.85</td>\n",
              "      <td>2514.214527</td>\n",
              "      <td>2477.267356</td>\n",
              "    </tr>\n",
              "    <tr>\n",
              "      <th>237</th>\n",
              "      <td>2584.65</td>\n",
              "      <td>2525.797707</td>\n",
              "      <td>2479.344777</td>\n",
              "    </tr>\n",
              "    <tr>\n",
              "      <th>238</th>\n",
              "      <td>2606.35</td>\n",
              "      <td>2522.031279</td>\n",
              "      <td>2481.334112</td>\n",
              "    </tr>\n",
              "    <tr>\n",
              "      <th>239</th>\n",
              "      <td>2571.90</td>\n",
              "      <td>2529.266588</td>\n",
              "      <td>2483.168769</td>\n",
              "    </tr>\n",
              "    <tr>\n",
              "      <th>240</th>\n",
              "      <td>2534.00</td>\n",
              "      <td>2513.208481</td>\n",
              "      <td>2484.785720</td>\n",
              "    </tr>\n",
              "    <tr>\n",
              "      <th>241</th>\n",
              "      <td>2567.15</td>\n",
              "      <td>2507.068967</td>\n",
              "      <td>2486.324172</td>\n",
              "    </tr>\n",
              "    <tr>\n",
              "      <th>242</th>\n",
              "      <td>2582.50</td>\n",
              "      <td>2505.167079</td>\n",
              "      <td>2487.907097</td>\n",
              "    </tr>\n",
              "    <tr>\n",
              "      <th>243</th>\n",
              "      <td>2591.10</td>\n",
              "      <td>2509.869819</td>\n",
              "      <td>2489.334664</td>\n",
              "    </tr>\n",
              "    <tr>\n",
              "      <th>244</th>\n",
              "      <td>2633.00</td>\n",
              "      <td>2517.004652</td>\n",
              "      <td>2490.670761</td>\n",
              "    </tr>\n",
              "    <tr>\n",
              "      <th>245</th>\n",
              "      <td>2651.30</td>\n",
              "      <td>2525.554882</td>\n",
              "      <td>2491.877120</td>\n",
              "    </tr>\n",
              "    <tr>\n",
              "      <th>246</th>\n",
              "      <td>2665.15</td>\n",
              "      <td>2536.607938</td>\n",
              "      <td>2492.984443</td>\n",
              "    </tr>\n",
              "    <tr>\n",
              "      <th>247</th>\n",
              "      <td>2661.30</td>\n",
              "      <td>2533.883584</td>\n",
              "      <td>2493.850862</td>\n",
              "    </tr>\n",
              "  </tbody>\n",
              "</table>\n",
              "</div>\n",
              "      <button class=\"colab-df-convert\" onclick=\"convertToInteractive('df-e7e3848c-d337-447e-affd-c905508219f5')\"\n",
              "              title=\"Convert this dataframe to an interactive table.\"\n",
              "              style=\"display:none;\">\n",
              "        \n",
              "  <svg xmlns=\"http://www.w3.org/2000/svg\" height=\"24px\"viewBox=\"0 0 24 24\"\n",
              "       width=\"24px\">\n",
              "    <path d=\"M0 0h24v24H0V0z\" fill=\"none\"/>\n",
              "    <path d=\"M18.56 5.44l.94 2.06.94-2.06 2.06-.94-2.06-.94-.94-2.06-.94 2.06-2.06.94zm-11 1L8.5 8.5l.94-2.06 2.06-.94-2.06-.94L8.5 2.5l-.94 2.06-2.06.94zm10 10l.94 2.06.94-2.06 2.06-.94-2.06-.94-.94-2.06-.94 2.06-2.06.94z\"/><path d=\"M17.41 7.96l-1.37-1.37c-.4-.4-.92-.59-1.43-.59-.52 0-1.04.2-1.43.59L10.3 9.45l-7.72 7.72c-.78.78-.78 2.05 0 2.83L4 21.41c.39.39.9.59 1.41.59.51 0 1.02-.2 1.41-.59l7.78-7.78 2.81-2.81c.8-.78.8-2.07 0-2.86zM5.41 20L4 18.59l7.72-7.72 1.47 1.35L5.41 20z\"/>\n",
              "  </svg>\n",
              "      </button>\n",
              "      \n",
              "  <style>\n",
              "    .colab-df-container {\n",
              "      display:flex;\n",
              "      flex-wrap:wrap;\n",
              "      gap: 12px;\n",
              "    }\n",
              "\n",
              "    .colab-df-convert {\n",
              "      background-color: #E8F0FE;\n",
              "      border: none;\n",
              "      border-radius: 50%;\n",
              "      cursor: pointer;\n",
              "      display: none;\n",
              "      fill: #1967D2;\n",
              "      height: 32px;\n",
              "      padding: 0 0 0 0;\n",
              "      width: 32px;\n",
              "    }\n",
              "\n",
              "    .colab-df-convert:hover {\n",
              "      background-color: #E2EBFA;\n",
              "      box-shadow: 0px 1px 2px rgba(60, 64, 67, 0.3), 0px 1px 3px 1px rgba(60, 64, 67, 0.15);\n",
              "      fill: #174EA6;\n",
              "    }\n",
              "\n",
              "    [theme=dark] .colab-df-convert {\n",
              "      background-color: #3B4455;\n",
              "      fill: #D2E3FC;\n",
              "    }\n",
              "\n",
              "    [theme=dark] .colab-df-convert:hover {\n",
              "      background-color: #434B5C;\n",
              "      box-shadow: 0px 1px 3px 1px rgba(0, 0, 0, 0.15);\n",
              "      filter: drop-shadow(0px 1px 2px rgba(0, 0, 0, 0.3));\n",
              "      fill: #FFFFFF;\n",
              "    }\n",
              "  </style>\n",
              "\n",
              "      <script>\n",
              "        const buttonEl =\n",
              "          document.querySelector('#df-e7e3848c-d337-447e-affd-c905508219f5 button.colab-df-convert');\n",
              "        buttonEl.style.display =\n",
              "          google.colab.kernel.accessAllowed ? 'block' : 'none';\n",
              "\n",
              "        async function convertToInteractive(key) {\n",
              "          const element = document.querySelector('#df-e7e3848c-d337-447e-affd-c905508219f5');\n",
              "          const dataTable =\n",
              "            await google.colab.kernel.invokeFunction('convertToInteractive',\n",
              "                                                     [key], {});\n",
              "          if (!dataTable) return;\n",
              "\n",
              "          const docLinkHtml = 'Like what you see? Visit the ' +\n",
              "            '<a target=\"_blank\" href=https://colab.research.google.com/notebooks/data_table.ipynb>data table notebook</a>'\n",
              "            + ' to learn more about interactive tables.';\n",
              "          element.innerHTML = '';\n",
              "          dataTable['output_type'] = 'display_data';\n",
              "          await google.colab.output.renderOutput(dataTable, element);\n",
              "          const docLink = document.createElement('div');\n",
              "          docLink.innerHTML = docLinkHtml;\n",
              "          element.appendChild(docLink);\n",
              "        }\n",
              "      </script>\n",
              "    </div>\n",
              "  </div>\n",
              "  "
            ]
          },
          "metadata": {},
          "execution_count": 1014
        }
      ]
    },
    {
      "cell_type": "code",
      "source": [
        "plt.plot(test['close '], label ='test_val')\n",
        "plt.plot(test['RNN_prediction'], label= 'RNN_pred')\n",
        "plt.plot(test['LSTM_prediction'], label= 'LSTM_pred')\n",
        "plt.legend()"
      ],
      "metadata": {
        "colab": {
          "base_uri": "https://localhost:8080/",
          "height": 282
        },
        "id": "2o0dONEpbEfG",
        "outputId": "301a3cd2-d82b-4eac-f7ce-fc7caa0e383a"
      },
      "execution_count": null,
      "outputs": [
        {
          "output_type": "execute_result",
          "data": {
            "text/plain": [
              "<matplotlib.legend.Legend at 0x7f9426c56690>"
            ]
          },
          "metadata": {},
          "execution_count": 1015
        },
        {
          "output_type": "display_data",
          "data": {
            "text/plain": [
              "<Figure size 432x288 with 1 Axes>"
            ],
            "image/png": "[encoded data removed]"
          },
          "metadata": {
            "needs_background": "light"
          }
        }
      ]
    },
    {
      "cell_type": "markdown",
      "source": [
        "** Creating LSTM Model for Forecasting**"
      ],
      "metadata": {
        "id": "P4wZmzOPcXVk"
      }
    },
    {
      "cell_type": "code",
      "source": [
        "length = 18\n",
        "batch_size = 30\n",
        "\n",
        "# will crate generator on train data and will predict and validate on 18 test data\n",
        "generator = TimeseriesGenerator(scaled_full_data, scaled_full_data, length= length, batch_size= batch_size)"
      ],
      "metadata": {
        "id": "0Y1fFj9Uccpt"
      },
      "execution_count": null,
      "outputs": []
    },
    {
      "cell_type": "code",
      "source": [
        "LSTM_model = Sequential()\n",
        "\n",
        "LSTM_model.add(LSTM(30, input_shape= (length, n_features)))\n",
        "LSTM_model.add(Dropout(0.2))\n",
        "LSTM_model.add(Dense(1))\n",
        "\n",
        "LSTM_model.compile(optimizer= 'adam', loss= 'mse')"
      ],
      "metadata": {
        "id": "I8-dnn5fczdY"
      },
      "execution_count": null,
      "outputs": []
    },
    {
      "cell_type": "code",
      "source": [
        "LSTM_model.fit_generator(generator, epochs= 10, shuffle= False)"
      ],
      "metadata": {
        "colab": {
          "base_uri": "https://localhost:8080/"
        },
        "id": "q7IRVxWXc_OY",
        "outputId": "0e14f045-b275-4d6d-cb79-31931c4aa4f3"
      },
      "execution_count": null,
      "outputs": [
        {
          "output_type": "stream",
          "name": "stdout",
          "text": [
            "Epoch 1/10\n"
          ]
        },
        {
          "output_type": "stream",
          "name": "stderr",
          "text": [
            "/usr/local/lib/python3.7/dist-packages/ipykernel_launcher.py:1: UserWarning: `Model.fit_generator` is deprecated and will be removed in a future version. Please use `Model.fit`, which supports generators.\n",
            "  \"\"\"Entry point for launching an IPython kernel.\n"
          ]
        },
        {
          "output_type": "stream",
          "name": "stdout",
          "text": [
            "8/8 [==============================] - 2s 5ms/step - loss: 0.2443\n",
            "Epoch 2/10\n",
            "8/8 [==============================] - 0s 4ms/step - loss: 0.0952\n",
            "Epoch 3/10\n",
            "8/8 [==============================] - 0s 4ms/step - loss: 0.0331\n",
            "Epoch 4/10\n",
            "8/8 [==============================] - 0s 4ms/step - loss: 0.0391\n",
            "Epoch 5/10\n",
            "8/8 [==============================] - 0s 4ms/step - loss: 0.0269\n",
            "Epoch 6/10\n",
            "8/8 [==============================] - 0s 4ms/step - loss: 0.0272\n",
            "Epoch 7/10\n",
            "8/8 [==============================] - 0s 5ms/step - loss: 0.0247\n",
            "Epoch 8/10\n",
            "8/8 [==============================] - 0s 4ms/step - loss: 0.0216\n",
            "Epoch 9/10\n",
            "8/8 [==============================] - 0s 4ms/step - loss: 0.0236\n",
            "Epoch 10/10\n",
            "8/8 [==============================] - 0s 4ms/step - loss: 0.0222\n"
          ]
        },
        {
          "output_type": "execute_result",
          "data": {
            "text/plain": [
              "<keras.callbacks.History at 0x7f9426b78290>"
            ]
          },
          "metadata": {},
          "execution_count": 1018
        }
      ]
    },
    {
      "cell_type": "code",
      "source": [
        "forecast = []\n",
        "\n",
        "first_batch = scaled_full_data[-length:]\n",
        "curr_batch = first_batch.reshape((1,length,n_features))\n",
        "\n",
        "for i in range(len(test)):\n",
        "\n",
        "  curr_pred = LSTM_model.predict(curr_batch)[0]\n",
        "\n",
        "  forecast.append(curr_pred)\n",
        "\n",
        "  curr_batch = np.append(curr_batch[:,1:,:], [[curr_pred]], axis=1)"
      ],
      "metadata": {
        "id": "EQ4IilM2dHwn"
      },
      "execution_count": null,
      "outputs": []
    },
    {
      "cell_type": "code",
      "source": [
        "forecast = scaler.inverse_transform(forecast)\n",
        "forecast"
      ],
      "metadata": {
        "colab": {
          "base_uri": "https://localhost:8080/"
        },
        "id": "jLJFJK6KdbhU",
        "outputId": "9bd70869-26ad-418e-e2c1-4523ae256372"
      },
      "execution_count": null,
      "outputs": [
        {
          "output_type": "execute_result",
          "data": {
            "text/plain": [
              "array([[2566.9297451 ],\n",
              "       [2569.47872591],\n",
              "       [2571.10860691],\n",
              "       [2571.56147172],\n",
              "       [2571.24094768],\n",
              "       [2570.178859  ],\n",
              "       [2568.51110916],\n",
              "       [2566.32508471],\n",
              "       [2564.08021545],\n",
              "       [2561.74379649],\n",
              "       [2559.68923213],\n",
              "       [2557.91291964],\n",
              "       [2555.96191413],\n",
              "       [2553.98713052],\n",
              "       [2552.04421117],\n",
              "       [2549.93536549],\n",
              "       [2547.83368526]])"
            ]
          },
          "metadata": {},
          "execution_count": 1021
        }
      ]
    },
    {
      "cell_type": "code",
      "source": [
        "forecast.flatten()"
      ],
      "metadata": {
        "colab": {
          "base_uri": "https://localhost:8080/"
        },
        "id": "oGLN3YTGdhek",
        "outputId": "3e0193c2-f370-4d39-ff34-20014768b087"
      },
      "execution_count": null,
      "outputs": [
        {
          "output_type": "execute_result",
          "data": {
            "text/plain": [
              "array([2566.9297451 , 2569.47872591, 2571.10860691, 2571.56147172,\n",
              "       2571.24094768, 2570.178859  , 2568.51110916, 2566.32508471,\n",
              "       2564.08021545, 2561.74379649, 2559.68923213, 2557.91291964,\n",
              "       2555.96191413, 2553.98713052, 2552.04421117, 2549.93536549,\n",
              "       2547.83368526])"
            ]
          },
          "metadata": {},
          "execution_count": 1022
        }
      ]
    },
    {
      "cell_type": "code",
      "source": [
        "df_array = np.array(reliance_price)"
      ],
      "metadata": {
        "id": "jt4WATnsds7t"
      },
      "execution_count": null,
      "outputs": []
    },
    {
      "cell_type": "code",
      "source": [
        "new_data = pd.DataFrame(np.concatenate((df_array, forecast)))\n",
        "plt.plot(new_data)"
      ],
      "metadata": {
        "colab": {
          "base_uri": "https://localhost:8080/",
          "height": 282
        },
        "id": "nyaSfP57dvI6",
        "outputId": "db249aeb-d21e-466d-f722-19593756a73e"
      },
      "execution_count": null,
      "outputs": [
        {
          "output_type": "execute_result",
          "data": {
            "text/plain": [
              "[<matplotlib.lines.Line2D at 0x7f9426c46450>]"
            ]
          },
          "metadata": {},
          "execution_count": 1024
        },
        {
          "output_type": "display_data",
          "data": {
            "text/plain": [
              "<Figure size 432x288 with 1 Axes>"
            ],
            "image/png": "[encoded data removed]"
          },
          "metadata": {
            "needs_background": "light"
          }
        }
      ]
    }
  ]
}